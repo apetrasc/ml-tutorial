{
 "cells": [
  {
   "cell_type": "code",
   "execution_count": 3,
   "metadata": {},
   "outputs": [
    {
     "name": "stdout",
     "output_type": "stream",
     "text": [
      "['2023_2dim_hilbert_tdx2', '2023_2dim_rawcsv_tdx1_trans', 'camera_data', '2023_2dim_hilbert_tdx1', '2023_2dim_hilbert_tdx1_trans', '2023_2dim_rawcsv_tdx1']\n"
     ]
    }
   ],
   "source": [
    "import os\n",
    "ultrasonic_csv_folder = \"//mnt/sdb/ywatanabe/csv_files\"\n",
    "print(os.listdir(ultrasonic_csv_folder))"
   ]
  },
  {
   "cell_type": "code",
   "execution_count": 10,
   "metadata": {},
   "outputs": [
    {
     "name": "stdout",
     "output_type": "stream",
     "text": [
      "(14997, 4012)\n"
     ]
    }
   ],
   "source": [
    "import polars as pl\n",
    "import pandas as pd\n",
    "rawcsv_folder = \"//mnt/sdb/ywatanabe/csv_files/2023_2dim_rawcsv_tdx1\"\n",
    "sample = pd.read_csv(rawcsv_folder+\"/s1_g0_l1_t1_tdx1.csv\")\n",
    "print(sample.shape)"
   ]
  },
  {
   "cell_type": "code",
   "execution_count": 20,
   "metadata": {},
   "outputs": [
    {
     "name": "stdout",
     "output_type": "stream",
     "text": [
      "(4011,)\n",
      "(1, 8)\n",
      "[[623.57651659 599.31767937 451.95158983 476.78374736 518.39215141\n",
      "  489.62685066 441.45822236 452.80823909]]\n"
     ]
    }
   ],
   "source": [
    "import pandas as pd\n",
    "import numpy as np\n",
    "import librosa\n",
    "\n",
    "# row_index 番目の行の波形データを取得 (0番目の列は時刻なので除外)\n",
    "row_index = 0\n",
    "waveform = sample.iloc[row_index, 1:].values.astype(float)  # 1列目以降をfloat配列化\n",
    "\n",
    "# サンプリングレート(仮に 44100 とする)\n",
    "sr = 4410\n",
    "\n",
    "# librosa で MFCC を抽出（n_mfcc は取りたい MFCC 次元数に応じて設定）\n",
    "mfcc = librosa.feature.mfcc(y=waveform, sr=sr, n_mfcc=1)\n",
    "print(waveform.shape)\n",
    "print(mfcc.shape)\n",
    "print(mfcc)\n"
   ]
  },
  {
   "cell_type": "code",
   "execution_count": 21,
   "metadata": {},
   "outputs": [
    {
     "name": "stdout",
     "output_type": "stream",
     "text": [
      "MFCC 行列の形状: (14997, 104)\n"
     ]
    }
   ],
   "source": [
    "import pandas as pd\n",
    "import numpy as np\n",
    "import librosa\n",
    "\n",
    "# 例: DataFrame \"sample\" の各行に波形データが入っているとする\n",
    "#  - 0番目の列: 時刻 or IDなど\n",
    "#  - 1番目以降: 波形の振幅データ\n",
    "# たとえば sample.shape == (行数, N+1) など\n",
    "\n",
    "# サンプリングレート (例として 4410)\n",
    "sr = 4410  \n",
    "# 取りたい MFCC 次元数\n",
    "n_mfcc = 13\n",
    "\n",
    "mfcc_list = []\n",
    "\n",
    "for i in range(len(sample)):\n",
    "    # 行 i の波形データ（1列目以降）を float 配列に変換\n",
    "    waveform = sample.iloc[i, 1:].values.astype(float)\n",
    "    \n",
    "    # MFCC を抽出: shape = (n_mfcc, T)\n",
    "    mfcc = librosa.feature.mfcc(y=waveform, sr=sr, n_mfcc=n_mfcc)\n",
    "    \n",
    "    # そのまま 3次元 (サンプル数, n_mfcc, T) で扱いたい場合\n",
    "    # mfcc_list.append(mfcc[np.newaxis, :, :])\n",
    "\n",
    "    # あるいは 2次元 (サンプル数, n_mfcc*T) にフラット化したい場合\n",
    "    mfcc_flat = mfcc.flatten()\n",
    "    mfcc_list.append(mfcc_flat)\n",
    "\n",
    "# =========================\n",
    "# (A) 3次元にまとめる例\n",
    "# =========================\n",
    "# mfcc_list には (1, n_mfcc, T) がサンプル数個入っている想定の場合\n",
    "# mfcc_all = np.concatenate(mfcc_list, axis=0)\n",
    "# → shape = (サンプル数, n_mfcc, T)\n",
    "\n",
    "# =========================\n",
    "# (B) 2次元にまとめる例\n",
    "# =========================\n",
    "# mfcc_list にはフラット化済みベクトルがサンプル数個入っている\n",
    "mfcc_all = np.array(mfcc_list)\n",
    "# shape = (サンプル数, n_mfcc*T)\n",
    "\n",
    "print(\"MFCC 行列の形状:\", mfcc_all.shape)\n"
   ]
  },
  {
   "cell_type": "code",
   "execution_count": 22,
   "metadata": {},
   "outputs": [
    {
     "name": "stdout",
     "output_type": "stream",
     "text": [
      "Saved MFCC to: /mnt/sdb/matsubara/csv_files/mfcc_npy_files/s2_g0_l3_t4_tdx1.csv.npy (shape: (13, 117487))\n",
      "Saved MFCC to: /mnt/sdb/matsubara/csv_files/mfcc_npy_files/s3_g0_l1_t5_tdx1.csv.npy (shape: (13, 117487))\n",
      "Saved MFCC to: /mnt/sdb/matsubara/csv_files/mfcc_npy_files/s2_g0_l1_t5_tdx1.csv.npy (shape: (13, 117487))\n",
      "Saved MFCC to: /mnt/sdb/matsubara/csv_files/mfcc_npy_files/s1_g0_l2_t1_tdx1.csv.npy (shape: (13, 117487))\n",
      "Saved MFCC to: /mnt/sdb/matsubara/csv_files/mfcc_npy_files/s1_g0_l1_t5_tdx1.csv.npy (shape: (13, 117487))\n",
      "Saved MFCC to: /mnt/sdb/matsubara/csv_files/mfcc_npy_files/s1_g0_l3_t2_tdx1.csv.npy (shape: (13, 117487))\n",
      "Saved MFCC to: /mnt/sdb/matsubara/csv_files/mfcc_npy_files/s1_g0_l3_t4_tdx1.csv.npy (shape: (13, 117487))\n",
      "Saved MFCC to: /mnt/sdb/matsubara/csv_files/mfcc_npy_files/s2_g0_l1_t4_tdx1.csv.npy (shape: (13, 117487))\n",
      "Saved MFCC to: /mnt/sdb/matsubara/csv_files/mfcc_npy_files/s1_g0_l1_t3_tdx1.csv.npy (shape: (13, 117487))\n",
      "Saved MFCC to: /mnt/sdb/matsubara/csv_files/mfcc_npy_files/s1_g0_l3_t5_tdx1.csv.npy (shape: (13, 117487))\n",
      "Saved MFCC to: /mnt/sdb/matsubara/csv_files/mfcc_npy_files/s2_g0_l2_t3_tdx1.csv.npy (shape: (13, 117487))\n",
      "Saved MFCC to: /mnt/sdb/matsubara/csv_files/mfcc_npy_files/s3_g0_l1_t6_tdx1.csv.npy (shape: (13, 117487))\n",
      "Saved MFCC to: /mnt/sdb/matsubara/csv_files/mfcc_npy_files/s2_g0_l1_t2_tdx1.csv.npy (shape: (13, 117487))\n",
      "Saved MFCC to: /mnt/sdb/matsubara/csv_files/mfcc_npy_files/s1_g0_l2_t2_tdx1.csv.npy (shape: (13, 117487))\n",
      "Saved MFCC to: /mnt/sdb/matsubara/csv_files/mfcc_npy_files/s1_g0_l2_t3_tdx1.csv.npy (shape: (13, 117487))\n",
      "Saved MFCC to: /mnt/sdb/matsubara/csv_files/mfcc_npy_files/s2_g0_l2_t6_tdx1.csv.npy (shape: (13, 117487))\n",
      "Saved MFCC to: /mnt/sdb/matsubara/csv_files/mfcc_npy_files/s2_g0_l1_t6_tdx1.csv.npy (shape: (13, 117487))\n",
      "Saved MFCC to: /mnt/sdb/matsubara/csv_files/mfcc_npy_files/s3_g0_l2_t5_tdx1.csv.npy (shape: (13, 117487))\n",
      "Saved MFCC to: /mnt/sdb/matsubara/csv_files/mfcc_npy_files/s2_g0_l2_t2_tdx1.csv.npy (shape: (13, 117487))\n",
      "Saved MFCC to: /mnt/sdb/matsubara/csv_files/mfcc_npy_files/s1_g0_l1_t2_tdx1.csv.npy (shape: (13, 117487))\n",
      "Saved MFCC to: /mnt/sdb/matsubara/csv_files/mfcc_npy_files/s1_g0_l3_t3_tdx1.csv.npy (shape: (13, 117487))\n",
      "Saved MFCC to: /mnt/sdb/matsubara/csv_files/mfcc_npy_files/s3_g0_l2_t4_tdx1.csv.npy (shape: (13, 117487))\n",
      "Saved MFCC to: /mnt/sdb/matsubara/csv_files/mfcc_npy_files/s2_g0_l3_t3_tdx1.csv.npy (shape: (13, 107005))\n",
      "Saved MFCC to: /mnt/sdb/matsubara/csv_files/mfcc_npy_files/s2_g0_l2_t1_tdx1.csv.npy (shape: (13, 117487))\n",
      "Saved MFCC to: /mnt/sdb/matsubara/csv_files/mfcc_npy_files/s1_g0_l1_t4_tdx1.csv.npy (shape: (13, 117487))\n",
      "Saved MFCC to: /mnt/sdb/matsubara/csv_files/mfcc_npy_files/s2_g0_l3_t6_tdx1.csv.npy (shape: (13, 117487))\n",
      "Saved MFCC to: /mnt/sdb/matsubara/csv_files/mfcc_npy_files/s3_g0_l2_t3_tdx1.csv.npy (shape: (13, 117487))\n",
      "Saved MFCC to: /mnt/sdb/matsubara/csv_files/mfcc_npy_files/s3_g0_l2_t1_tdx1.csv.npy (shape: (13, 117487))\n",
      "Saved MFCC to: /mnt/sdb/matsubara/csv_files/mfcc_npy_files/s3_g0_l2_t2_tdx1.csv.npy (shape: (13, 117487))\n",
      "Saved MFCC to: /mnt/sdb/matsubara/csv_files/mfcc_npy_files/s3_g0_l3_t4_tdx1.csv.npy (shape: (13, 117487))\n",
      "Saved MFCC to: /mnt/sdb/matsubara/csv_files/mfcc_npy_files/s2_g0_l2_t5_tdx1.csv.npy (shape: (13, 117487))\n",
      "Saved MFCC to: /mnt/sdb/matsubara/csv_files/mfcc_npy_files/s3_g0_l1_t7_tdx1.csv.npy (shape: (13, 117487))\n",
      "Saved MFCC to: /mnt/sdb/matsubara/csv_files/mfcc_npy_files/s2_g0_l1_t1_tdx1.csv.npy (shape: (13, 117487))\n",
      "Saved MFCC to: /mnt/sdb/matsubara/csv_files/mfcc_npy_files/s1_g0_l3_t6_tdx1.csv.npy (shape: (13, 117487))\n",
      "Saved MFCC to: /mnt/sdb/matsubara/csv_files/mfcc_npy_files/s2_g0_l3_t1_tdx1.csv.npy (shape: (13, 80933))\n",
      "Saved MFCC to: /mnt/sdb/matsubara/csv_files/mfcc_npy_files/s3_g0_l1_t2_tdx1.csv.npy (shape: (13, 117487))\n",
      "Saved MFCC to: /mnt/sdb/matsubara/csv_files/mfcc_npy_files/s3_g0_l3_t2_tdx1.csv.npy (shape: (13, 117487))\n",
      "Saved MFCC to: /mnt/sdb/matsubara/csv_files/mfcc_npy_files/s3_g0_l3_t3_tdx1.csv.npy (shape: (13, 117487))\n",
      "Saved MFCC to: /mnt/sdb/matsubara/csv_files/mfcc_npy_files/s1_g0_l1_t1_tdx1.csv.npy (shape: (13, 117487))\n",
      "Saved MFCC to: /mnt/sdb/matsubara/csv_files/mfcc_npy_files/s2_g0_l3_t5_tdx1.csv.npy (shape: (13, 108329))\n",
      "Saved MFCC to: /mnt/sdb/matsubara/csv_files/mfcc_npy_files/s3_g0_l1_t3_tdx1.csv.npy (shape: (13, 117487))\n",
      "Saved MFCC to: /mnt/sdb/matsubara/csv_files/mfcc_npy_files/s1_g0_l2_t5_tdx1.csv.npy (shape: (13, 117487))\n",
      "Saved MFCC to: /mnt/sdb/matsubara/csv_files/mfcc_npy_files/s1_g0_l2_t4_tdx1.csv.npy (shape: (13, 117487))\n",
      "Saved MFCC to: /mnt/sdb/matsubara/csv_files/mfcc_npy_files/s3_g0_l1_t1_tdx1.csv.npy (shape: (13, 117487))\n"
     ]
    }
   ],
   "source": [
    "import os\n",
    "import pandas as pd\n",
    "import numpy as np\n",
    "import librosa\n",
    "\n",
    "def convert_csv_to_mfcc_npy(input_dir, output_dir, sr=44100, n_mfcc=13):\n",
    "    \"\"\"\n",
    "    input_dir  : CSVファイルが存在するディレクトリ\n",
    "    output_dir : 変換した .npy を保存するディレクトリ\n",
    "    sr         : サンプリングレート\n",
    "    n_mfcc     : 取得するMFCCの次元数\n",
    "    \"\"\"\n",
    "\n",
    "    # 出力フォルダがなければ作成\n",
    "    if not os.path.exists(output_dir):\n",
    "        os.makedirs(output_dir)\n",
    "    \n",
    "    # ディレクトリ内のすべての .csv ファイルを取得\n",
    "    csv_files = [f for f in os.listdir(input_dir) if f.endswith(\".csv\")]\n",
    "\n",
    "    for csv_file in csv_files:\n",
    "        input_path = os.path.join(input_dir, csv_file)\n",
    "        output_path = os.path.join(output_dir, csv_file + \".npy\")\n",
    "        \n",
    "        # CSV 読み込み (例: 最初の列に時刻やID等があり、それ以外が波形データだと想定)\n",
    "        df = pd.read_csv(input_path)\n",
    "        \n",
    "        # 波形部分を float に変換\n",
    "        #  - ここでは、全行・「最初の列を除いたすべての列」を結合して 1D 波形とみなす例\n",
    "        #    CSV の構造に合わせて適宜修正してください。\n",
    "        waveform = df.iloc[:, 1:].values.flatten().astype(float)\n",
    "        \n",
    "        # MFCC を取得  shape = (n_mfcc, T)\n",
    "        mfcc = librosa.feature.mfcc(y=waveform, sr=sr, n_mfcc=n_mfcc)\n",
    "        \n",
    "        # .npy 形式で出力保存\n",
    "        np.save(output_path, mfcc)\n",
    "        print(f\"Saved MFCC to: {output_path} (shape: {mfcc.shape})\")\n",
    "\n",
    "\n",
    "if __name__ == \"__main__\":\n",
    "    # 入力CSVがあるディレクトリ\n",
    "    input_dir = \"/mnt/sdb/ywatanabe/csv_files/2023_2dim_rawcsv_tdx1\"\n",
    "\n",
    "    # 出力先ディレクトリ (なければ自動生成)\n",
    "    output_dir = \"/mnt/sdb/matsubara/csv_files/mfcc_npy_files\"\n",
    "\n",
    "    # サンプリングレートや MFCC 次元数は必要に応じて変更\n",
    "    sr = 4410\n",
    "    n_mfcc = 13\n",
    "\n",
    "    convert_csv_to_mfcc_npy(\n",
    "        input_dir=input_dir,\n",
    "        output_dir=output_dir,\n",
    "        sr=sr,\n",
    "        n_mfcc=n_mfcc\n",
    "    )\n"
   ]
  },
  {
   "cell_type": "code",
   "execution_count": 33,
   "metadata": {},
   "outputs": [
    {
     "name": "stdout",
     "output_type": "stream",
     "text": [
      "Saved MFCC to: /mnt/sdb/matsubara/csv_files/mfcc_npy_files/s2_g0_l3_t4_tdx1.npy (shape: (117487, 104))\n"
     ]
    },
    {
     "ename": "KeyboardInterrupt",
     "evalue": "",
     "output_type": "error",
     "traceback": [
      "\u001b[0;31m---------------------------------------------------------------------------\u001b[0m",
      "\u001b[0;31mKeyboardInterrupt\u001b[0m                         Traceback (most recent call last)",
      "Cell \u001b[0;32mIn[33], line 59\u001b[0m\n\u001b[1;32m     56\u001b[0m sr \u001b[38;5;241m=\u001b[39m \u001b[38;5;241m4410\u001b[39m       \u001b[38;5;66;03m# 例\u001b[39;00m\n\u001b[1;32m     57\u001b[0m n_mfcc \u001b[38;5;241m=\u001b[39m \u001b[38;5;241m104\u001b[39m    \u001b[38;5;66;03m# 例: 104次元\u001b[39;00m\n\u001b[0;32m---> 59\u001b[0m \u001b[43mconvert_csv_to_mfcc_npy\u001b[49m\u001b[43m(\u001b[49m\n\u001b[1;32m     60\u001b[0m \u001b[43m    \u001b[49m\u001b[43minput_dir\u001b[49m\u001b[38;5;241;43m=\u001b[39;49m\u001b[43minput_dir\u001b[49m\u001b[43m,\u001b[49m\n\u001b[1;32m     61\u001b[0m \u001b[43m    \u001b[49m\u001b[43moutput_dir\u001b[49m\u001b[38;5;241;43m=\u001b[39;49m\u001b[43moutput_dir\u001b[49m\u001b[43m,\u001b[49m\n\u001b[1;32m     62\u001b[0m \u001b[43m    \u001b[49m\u001b[43msr\u001b[49m\u001b[38;5;241;43m=\u001b[39;49m\u001b[43msr\u001b[49m\u001b[43m,\u001b[49m\n\u001b[1;32m     63\u001b[0m \u001b[43m    \u001b[49m\u001b[43mn_mfcc\u001b[49m\u001b[38;5;241;43m=\u001b[39;49m\u001b[43mn_mfcc\u001b[49m\n\u001b[1;32m     64\u001b[0m \u001b[43m\u001b[49m\u001b[43m)\u001b[49m\n",
      "Cell \u001b[0;32mIn[33], line 35\u001b[0m, in \u001b[0;36mconvert_csv_to_mfcc_npy\u001b[0;34m(input_dir, output_dir, sr, n_mfcc)\u001b[0m\n\u001b[1;32m     31\u001b[0m df \u001b[38;5;241m=\u001b[39m pd\u001b[38;5;241m.\u001b[39mread_csv(input_path)\n\u001b[1;32m     33\u001b[0m \u001b[38;5;66;03m# 波形部分を float に変換\u001b[39;00m\n\u001b[1;32m     34\u001b[0m \u001b[38;5;66;03m# CSVの構造に合わせて適宜修正してください\u001b[39;00m\n\u001b[0;32m---> 35\u001b[0m waveform \u001b[38;5;241m=\u001b[39m \u001b[43mdf\u001b[49m\u001b[38;5;241;43m.\u001b[39;49m\u001b[43miloc\u001b[49m\u001b[43m[\u001b[49m\u001b[43m:\u001b[49m\u001b[43m,\u001b[49m\u001b[43m \u001b[49m\u001b[38;5;241;43m1\u001b[39;49m\u001b[43m:\u001b[49m\u001b[43m]\u001b[49m\u001b[38;5;241;43m.\u001b[39;49m\u001b[43mvalues\u001b[49m\u001b[38;5;241;43m.\u001b[39;49m\u001b[43mflatten\u001b[49m\u001b[43m(\u001b[49m\u001b[43m)\u001b[49m\u001b[38;5;241m.\u001b[39mastype(\u001b[38;5;28mfloat\u001b[39m)\n\u001b[1;32m     37\u001b[0m \u001b[38;5;66;03m# MFCC を取得: shape = (n_mfcc, T)\u001b[39;00m\n\u001b[1;32m     38\u001b[0m mfcc \u001b[38;5;241m=\u001b[39m librosa\u001b[38;5;241m.\u001b[39mfeature\u001b[38;5;241m.\u001b[39mmfcc(y\u001b[38;5;241m=\u001b[39mwaveform, sr\u001b[38;5;241m=\u001b[39msr, n_mfcc\u001b[38;5;241m=\u001b[39mn_mfcc)\n",
      "\u001b[0;31mKeyboardInterrupt\u001b[0m: "
     ]
    }
   ],
   "source": [
    "import os\n",
    "import pandas as pd\n",
    "import numpy as np\n",
    "import librosa\n",
    "\n",
    "def convert_csv_to_mfcc_npy(input_dir, output_dir, sr=44100, n_mfcc=104):\n",
    "    \"\"\"\n",
    "    input_dir  : CSVファイルが存在するディレクトリ\n",
    "    output_dir : 変換した .npy を保存するディレクトリ\n",
    "    sr         : サンプリングレート\n",
    "    n_mfcc     : 取得するMFCCの次元数(ここでは104)\n",
    "    \"\"\"\n",
    "\n",
    "    # 出力フォルダがなければ作成\n",
    "    if not os.path.exists(output_dir):\n",
    "        os.makedirs(output_dir)\n",
    "    \n",
    "    # ディレクトリ内のすべての .csv ファイルを取得\n",
    "    csv_files = [f for f in os.listdir(input_dir) if f.endswith(\".csv\")]\n",
    "\n",
    "    for csv_file in csv_files:\n",
    "        input_path = os.path.join(input_dir, csv_file)\n",
    "        \n",
    "        # 拡張子 .csv を取り除いたファイル名を取得\n",
    "        base_name = os.path.splitext(csv_file)[0]\n",
    "        # 出力ファイルパス (\".csv\"を含まない形にして \".npy\" を付与)\n",
    "        output_path = os.path.join(output_dir, base_name + \".npy\")\n",
    "        \n",
    "        # CSV 読み込み\n",
    "        # 例: 最初の列は時刻やIDなどと想定し、それ以外が波形データ\n",
    "        df = pd.read_csv(input_path)\n",
    "        \n",
    "        # 波形部分を float に変換\n",
    "        # CSVの構造に合わせて適宜修正してください\n",
    "        waveform = df.iloc[:, 1:].values.flatten().astype(float)\n",
    "        \n",
    "        # MFCC を取得: shape = (n_mfcc, T)\n",
    "        mfcc = librosa.feature.mfcc(y=waveform, sr=sr, n_mfcc=n_mfcc)\n",
    "        \n",
    "        # 形状を (T, n_mfcc) に転置  -> 例: (15000程度, 104)\n",
    "        mfcc = mfcc.T\n",
    "        \n",
    "        # .npy 形式で出力保存\n",
    "        np.save(output_path, mfcc)\n",
    "        print(f\"Saved MFCC to: {output_path} (shape: {mfcc.shape})\")\n",
    "\n",
    "\n",
    "if __name__ == \"__main__\":\n",
    "    # 入力CSVがあるディレクトリ\n",
    "    input_dir = \"/mnt/sdb/ywatanabe/csv_files/2023_2dim_rawcsv_tdx1\"\n",
    "\n",
    "    # 出力先ディレクトリ\n",
    "    output_dir = \"/mnt/sdb/matsubara/csv_files/mfcc_npy_files\"\n",
    "\n",
    "    # サンプリングレートやMFCC次元を実際の仕様にあわせる\n",
    "    sr = 4410       # 例\n",
    "    n_mfcc = 104    # 例: 104次元\n",
    "\n",
    "    convert_csv_to_mfcc_npy(\n",
    "        input_dir=input_dir,\n",
    "        output_dir=output_dir,\n",
    "        sr=sr,\n",
    "        n_mfcc=n_mfcc\n",
    "    )\n"
   ]
  },
  {
   "cell_type": "code",
   "execution_count": 1,
   "metadata": {},
   "outputs": [
    {
     "name": "stdout",
     "output_type": "stream",
     "text": [
      "(300765, 104)\n"
     ]
    }
   ],
   "source": [
    "import numpy as np \n",
    "sample = np.load(\"//mnt/sdb/matsubara/csv_files/mfcc_npy_files/s2_g0_l1_t5_tdx1.npy\")\n",
    "print(sample.shape)"
   ]
  },
  {
   "cell_type": "code",
   "execution_count": 36,
   "metadata": {},
   "outputs": [
    {
     "name": "stdout",
     "output_type": "stream",
     "text": [
      "Using device: cuda\n",
      "Saved MFCC to: /mnt/sdb/matsubara/csv_files/mfcc_npy_files/s1_g0_l1_t1_tdx1.npy (shape: (300765, 104))\n",
      "Saved MFCC to: /mnt/sdb/matsubara/csv_files/mfcc_npy_files/s1_g0_l1_t2_tdx1.npy (shape: (300765, 104))\n",
      "Saved MFCC to: /mnt/sdb/matsubara/csv_files/mfcc_npy_files/s1_g0_l1_t3_tdx1.npy (shape: (300765, 104))\n",
      "Saved MFCC to: /mnt/sdb/matsubara/csv_files/mfcc_npy_files/s1_g0_l1_t4_tdx1.npy (shape: (300765, 104))\n",
      "Saved MFCC to: /mnt/sdb/matsubara/csv_files/mfcc_npy_files/s1_g0_l1_t5_tdx1.npy (shape: (300765, 104))\n",
      "Saved MFCC to: /mnt/sdb/matsubara/csv_files/mfcc_npy_files/s1_g0_l2_t1_tdx1.npy (shape: (300765, 104))\n",
      "Saved MFCC to: /mnt/sdb/matsubara/csv_files/mfcc_npy_files/s1_g0_l2_t2_tdx1.npy (shape: (300765, 104))\n",
      "Saved MFCC to: /mnt/sdb/matsubara/csv_files/mfcc_npy_files/s1_g0_l2_t3_tdx1.npy (shape: (300765, 104))\n",
      "Saved MFCC to: /mnt/sdb/matsubara/csv_files/mfcc_npy_files/s1_g0_l2_t4_tdx1.npy (shape: (300765, 104))\n",
      "Saved MFCC to: /mnt/sdb/matsubara/csv_files/mfcc_npy_files/s1_g0_l2_t5_tdx1.npy (shape: (300765, 104))\n",
      "Saved MFCC to: /mnt/sdb/matsubara/csv_files/mfcc_npy_files/s1_g0_l3_t2_tdx1.npy (shape: (300765, 104))\n",
      "Saved MFCC to: /mnt/sdb/matsubara/csv_files/mfcc_npy_files/s1_g0_l3_t3_tdx1.npy (shape: (300765, 104))\n",
      "Saved MFCC to: /mnt/sdb/matsubara/csv_files/mfcc_npy_files/s1_g0_l3_t4_tdx1.npy (shape: (300765, 104))\n",
      "Saved MFCC to: /mnt/sdb/matsubara/csv_files/mfcc_npy_files/s1_g0_l3_t5_tdx1.npy (shape: (300765, 104))\n",
      "Saved MFCC to: /mnt/sdb/matsubara/csv_files/mfcc_npy_files/s1_g0_l3_t6_tdx1.npy (shape: (300765, 104))\n",
      "Saved MFCC to: /mnt/sdb/matsubara/csv_files/mfcc_npy_files/s2_g0_l1_t1_tdx1.npy (shape: (300765, 104))\n",
      "Saved MFCC to: /mnt/sdb/matsubara/csv_files/mfcc_npy_files/s2_g0_l1_t2_tdx1.npy (shape: (300765, 104))\n",
      "Saved MFCC to: /mnt/sdb/matsubara/csv_files/mfcc_npy_files/s2_g0_l1_t4_tdx1.npy (shape: (300765, 104))\n",
      "Saved MFCC to: /mnt/sdb/matsubara/csv_files/mfcc_npy_files/s2_g0_l1_t5_tdx1.npy (shape: (300765, 104))\n",
      "Saved MFCC to: /mnt/sdb/matsubara/csv_files/mfcc_npy_files/s2_g0_l1_t6_tdx1.npy (shape: (300765, 104))\n",
      "Saved MFCC to: /mnt/sdb/matsubara/csv_files/mfcc_npy_files/s2_g0_l2_t1_tdx1.npy (shape: (300765, 104))\n",
      "Saved MFCC to: /mnt/sdb/matsubara/csv_files/mfcc_npy_files/s2_g0_l2_t2_tdx1.npy (shape: (300765, 104))\n",
      "Saved MFCC to: /mnt/sdb/matsubara/csv_files/mfcc_npy_files/s2_g0_l2_t3_tdx1.npy (shape: (300765, 104))\n",
      "Saved MFCC to: /mnt/sdb/matsubara/csv_files/mfcc_npy_files/s2_g0_l2_t5_tdx1.npy (shape: (300765, 104))\n",
      "Saved MFCC to: /mnt/sdb/matsubara/csv_files/mfcc_npy_files/s2_g0_l2_t6_tdx1.npy (shape: (300765, 104))\n",
      "Saved MFCC to: /mnt/sdb/matsubara/csv_files/mfcc_npy_files/s2_g0_l3_t1_tdx1.npy (shape: (207189, 104))\n",
      "Saved MFCC to: /mnt/sdb/matsubara/csv_files/mfcc_npy_files/s2_g0_l3_t3_tdx1.npy (shape: (273932, 104))\n",
      "Saved MFCC to: /mnt/sdb/matsubara/csv_files/mfcc_npy_files/s2_g0_l3_t4_tdx1.npy (shape: (300765, 104))\n",
      "Saved MFCC to: /mnt/sdb/matsubara/csv_files/mfcc_npy_files/s2_g0_l3_t5_tdx1.npy (shape: (277321, 104))\n",
      "Saved MFCC to: /mnt/sdb/matsubara/csv_files/mfcc_npy_files/s2_g0_l3_t6_tdx1.npy (shape: (300765, 104))\n",
      "Saved MFCC to: /mnt/sdb/matsubara/csv_files/mfcc_npy_files/s3_g0_l1_t1_tdx1.npy (shape: (300765, 104))\n",
      "Saved MFCC to: /mnt/sdb/matsubara/csv_files/mfcc_npy_files/s3_g0_l1_t2_tdx1.npy (shape: (300765, 104))\n",
      "Saved MFCC to: /mnt/sdb/matsubara/csv_files/mfcc_npy_files/s3_g0_l1_t3_tdx1.npy (shape: (300765, 104))\n",
      "Saved MFCC to: /mnt/sdb/matsubara/csv_files/mfcc_npy_files/s3_g0_l1_t5_tdx1.npy (shape: (300765, 104))\n",
      "Saved MFCC to: /mnt/sdb/matsubara/csv_files/mfcc_npy_files/s3_g0_l1_t6_tdx1.npy (shape: (300765, 104))\n",
      "Saved MFCC to: /mnt/sdb/matsubara/csv_files/mfcc_npy_files/s3_g0_l1_t7_tdx1.npy (shape: (300765, 104))\n",
      "Saved MFCC to: /mnt/sdb/matsubara/csv_files/mfcc_npy_files/s3_g0_l2_t1_tdx1.npy (shape: (300765, 104))\n",
      "Saved MFCC to: /mnt/sdb/matsubara/csv_files/mfcc_npy_files/s3_g0_l2_t2_tdx1.npy (shape: (300765, 104))\n",
      "Saved MFCC to: /mnt/sdb/matsubara/csv_files/mfcc_npy_files/s3_g0_l2_t3_tdx1.npy (shape: (300765, 104))\n",
      "Saved MFCC to: /mnt/sdb/matsubara/csv_files/mfcc_npy_files/s3_g0_l2_t4_tdx1.npy (shape: (300765, 104))\n",
      "Saved MFCC to: /mnt/sdb/matsubara/csv_files/mfcc_npy_files/s3_g0_l2_t5_tdx1.npy (shape: (300765, 104))\n",
      "Saved MFCC to: /mnt/sdb/matsubara/csv_files/mfcc_npy_files/s3_g0_l3_t2_tdx1.npy (shape: (300765, 104))\n",
      "Saved MFCC to: /mnt/sdb/matsubara/csv_files/mfcc_npy_files/s3_g0_l3_t3_tdx1.npy (shape: (300765, 104))\n",
      "Saved MFCC to: /mnt/sdb/matsubara/csv_files/mfcc_npy_files/s3_g0_l3_t4_tdx1.npy (shape: (300765, 104))\n"
     ]
    }
   ],
   "source": [
    "import os\n",
    "import pandas as pd\n",
    "import numpy as np\n",
    "import torch\n",
    "import torchaudio\n",
    "\n",
    "def convert_csv_to_mfcc_npy_torchaudio(input_dir, output_dir, sr=44100, n_mfcc=104):\n",
    "    \"\"\"\n",
    "    input_dir  : CSVファイルが存在するディレクトリ\n",
    "    output_dir : 変換した .npy を保存するディレクトリ\n",
    "    sr         : サンプリングレート\n",
    "    n_mfcc     : 取得するMFCCの次元数 (例: 104)\n",
    "    \"\"\"\n",
    "\n",
    "    # GPU が利用可能ならGPUを使う、なければCPU\n",
    "    device = torch.device(\"cuda\" if torch.cuda.is_available() else \"cpu\")\n",
    "    print(\"Using device:\", device)\n",
    "\n",
    "    # 出力フォルダ作成\n",
    "    os.makedirs(output_dir, exist_ok=True)\n",
    "    \n",
    "    # ディレクトリ内のすべての .csv ファイルを取得\n",
    "    csv_files = [f for f in os.listdir(input_dir) if f.endswith(\".csv\")]\n",
    "    csv_files.sort()\n",
    "\n",
    "    # torchaudio の MFCC 変換モジュールを作成 (GPU 上に配置)\n",
    "    mfcc_transform = torchaudio.transforms.MFCC(\n",
    "        sample_rate=sr,\n",
    "        n_mfcc=n_mfcc\n",
    "    ).to(device)\n",
    "\n",
    "    for csv_file in csv_files:\n",
    "        input_path = os.path.join(input_dir, csv_file)\n",
    "        \n",
    "        # 拡張子 .csv を取り除いたファイル名を取得\n",
    "        base_name = os.path.splitext(csv_file)[0]\n",
    "        # 出力ファイルパス (\".csv\" を含まない形にして \".npy\" を付与)\n",
    "        output_path = os.path.join(output_dir, base_name + \".npy\")\n",
    "        \n",
    "        # CSV を読み込み\n",
    "        df = pd.read_csv(input_path)\n",
    "        \n",
    "        # 最初の列が時刻やID等、2列目以降が波形データを想定\n",
    "        waveform_np = df.iloc[:, 1:].values.flatten().astype(np.float32)\n",
    "        \n",
    "        # NumPy配列 → PyTorch Tensor (shape: [T]) に変換 → [1, T] に拡張してモノラル扱い\n",
    "        waveform_tensor = torch.from_numpy(waveform_np).unsqueeze(0).to(device)  # [1, T]\n",
    "\n",
    "        # MFCC 変換 (shape: [batch=1, n_mfcc, time_frames])\n",
    "        mfcc_tensor = mfcc_transform(waveform_tensor)\n",
    "\n",
    "        # バッチ次元を削除 → (n_mfcc, time_frames) → 転置: (time_frames, n_mfcc)\n",
    "        mfcc_tensor = mfcc_tensor.squeeze(0).transpose(0, 1)\n",
    "\n",
    "        # CPU に戻して .npy 保存\n",
    "        mfcc = mfcc_tensor.cpu().numpy()\n",
    "        np.save(output_path, mfcc)\n",
    "\n",
    "        print(f\"Saved MFCC to: {output_path} (shape: {mfcc.shape})\")\n",
    "\n",
    "\n",
    "if __name__ == \"__main__\":\n",
    "    # 入力CSVがあるディレクトリ\n",
    "    input_dir = \"/mnt/sdb/ywatanabe/csv_files/2023_2dim_rawcsv_tdx1\"\n",
    "    # 出力先ディレクトリ\n",
    "    output_dir = \"/mnt/sdb/matsubara/csv_files/mfcc_npy_files\"\n",
    "\n",
    "    # サンプリングレートや MFCC の次元を実際の仕様に合わせて設定\n",
    "    sr = 4410       \n",
    "    n_mfcc = 12  \n",
    "\n",
    "    convert_csv_to_mfcc_npy_torchaudio(\n",
    "        input_dir=input_dir,\n",
    "        output_dir=output_dir,\n",
    "        sr=sr,\n",
    "        n_mfcc=n_mfcc\n",
    "    )\n"
   ]
  },
  {
   "cell_type": "code",
   "execution_count": 5,
   "metadata": {},
   "outputs": [
    {
     "name": "stdout",
     "output_type": "stream",
     "text": [
      "Saved data to: //mnt/sdb/matsubara/target/t_data.csv\n",
      "Data shape: (71, 3)\n"
     ]
    }
   ],
   "source": [
    "\n",
    "import os\n",
    "import pandas as pd\n",
    "import numpy as np\n",
    "\n",
    "def excel_to_npy(input_excel, output_csv):\n",
    "    \"\"\"\n",
    "    ExcelファイルのA列にID、B列に目標変数、C列に実験条件IDが記載されていると想定し、\n",
    "    それら3つの列をNumPy配列にまとめて .npy 形式で保存する。\n",
    "\n",
    "    Parameters\n",
    "    ----------\n",
    "    input_excel : str\n",
    "        入力するExcelファイル(.xlsxなど)へのパス\n",
    "    output_csv : str\n",
    "        出力する .csv ファイルのパス\n",
    "    \"\"\"\n",
    "    # Excelを読み込み（デフォルトで最初のシートを読む）\n",
    "    # 読み込んだDataFrameの0列目(A列)がID, 1列目(B列)が目標変数, 2列目(C列)が実験条件IDと想定\n",
    "    df = pd.read_excel(input_excel, header=None)\n",
    "\n",
    "    # A列, B列, C列を取り出し、(行数, 3列) の2次元配列を作成\n",
    "    # 例: df.iloc[:, 0] が A列, df.iloc[:, 1] が B列, df.iloc[:, 2] が C列\n",
    "    data_array = df.iloc[:, [0, 5, 2]]\n",
    "\n",
    "    # .npy 形式で保存\n",
    "    #np.save(output_csv, data_array)\n",
    "    data_array.to_csv(output_csv,index=False)\n",
    "    print(f\"Saved data to: {output_csv}\")\n",
    "    print(\"Data shape:\", data_array.shape)\n",
    "\n",
    "\n",
    "if __name__ == \"__main__\":\n",
    "    # 入力Excelファイルと出力ファイルを指定\n",
    "    # 例: A列=ID, B列=目標変数, C列=実験条件ID\n",
    "    input_excel = \"/home/user01/download/固液二相流(送付用).xlsx\"\n",
    "    output_csv = \"//mnt/sdb/matsubara/target/t_data.csv\"\n",
    "\n",
    "    excel_to_npy(input_excel, output_csv)\n"
   ]
  },
  {
   "cell_type": "code",
   "execution_count": 19,
   "metadata": {},
   "outputs": [
    {
     "ename": "SyntaxError",
     "evalue": "unterminated string literal (detected at line 3) (443796529.py, line 3)",
     "output_type": "error",
     "traceback": [
      "\u001b[0;36m  Cell \u001b[0;32mIn[19], line 3\u001b[0;36m\u001b[0m\n\u001b[0;31m    \"another = df.dropna(subset=[2])\u001b[0m\n\u001b[0m    ^\u001b[0m\n\u001b[0;31mSyntaxError\u001b[0m\u001b[0;31m:\u001b[0m unterminated string literal (detected at line 3)\n"
     ]
    }
   ],
   "source": [
    "import pandas as pd\n",
    "sample =pd.read_csv(\"//mnt/sdb/matsubara/target/t_data.csv\")\n",
    "\"another = df.dropna(subset=[2])\n",
    "print(sample.shape)\n",
    "\"print(another.head())"
   ]
  },
  {
   "cell_type": "code",
   "execution_count": 18,
   "metadata": {},
   "outputs": [
    {
     "name": "stdout",
     "output_type": "stream",
     "text": [
      "Processing: //mnt/sdb/ywatanabe/csv_files/2023_2dim_rawcsv_tdx1/s1_g0_l1_t1_tdx1.csv\n"
     ]
    },
    {
     "name": "stderr",
     "output_type": "stream",
     "text": [
      "/home/user01/Document/Matsubara/myenv/lib/python3.10/site-packages/torchaudio/functional/functional.py:584: UserWarning: At least one mel filterbank has all zero values. The value for `n_mels` (128) may be set too high. Or, the value for `n_freqs` (201) may be set too low.\n",
      "  warnings.warn(\n"
     ]
    },
    {
     "name": "stdout",
     "output_type": "stream",
     "text": [
      "Processing: //mnt/sdb/ywatanabe/csv_files/2023_2dim_rawcsv_tdx1/s1_g0_l1_t2_tdx1.csv\n"
     ]
    },
    {
     "name": "stderr",
     "output_type": "stream",
     "text": [
      "/home/user01/Document/Matsubara/myenv/lib/python3.10/site-packages/torchaudio/functional/functional.py:584: UserWarning: At least one mel filterbank has all zero values. The value for `n_mels` (128) may be set too high. Or, the value for `n_freqs` (201) may be set too low.\n",
      "  warnings.warn(\n"
     ]
    },
    {
     "name": "stdout",
     "output_type": "stream",
     "text": [
      "Processing: //mnt/sdb/ywatanabe/csv_files/2023_2dim_rawcsv_tdx1/s1_g0_l1_t3_tdx1.csv\n"
     ]
    },
    {
     "name": "stderr",
     "output_type": "stream",
     "text": [
      "/home/user01/Document/Matsubara/myenv/lib/python3.10/site-packages/torchaudio/functional/functional.py:584: UserWarning: At least one mel filterbank has all zero values. The value for `n_mels` (128) may be set too high. Or, the value for `n_freqs` (201) may be set too low.\n",
      "  warnings.warn(\n"
     ]
    },
    {
     "name": "stdout",
     "output_type": "stream",
     "text": [
      "Processing: //mnt/sdb/ywatanabe/csv_files/2023_2dim_rawcsv_tdx1/s1_g0_l1_t4_tdx1.csv\n"
     ]
    },
    {
     "name": "stderr",
     "output_type": "stream",
     "text": [
      "/home/user01/Document/Matsubara/myenv/lib/python3.10/site-packages/torchaudio/functional/functional.py:584: UserWarning: At least one mel filterbank has all zero values. The value for `n_mels` (128) may be set too high. Or, the value for `n_freqs` (201) may be set too low.\n",
      "  warnings.warn(\n"
     ]
    },
    {
     "name": "stdout",
     "output_type": "stream",
     "text": [
      "Processing: //mnt/sdb/ywatanabe/csv_files/2023_2dim_rawcsv_tdx1/s1_g0_l1_t5_tdx1.csv\n"
     ]
    },
    {
     "name": "stderr",
     "output_type": "stream",
     "text": [
      "/home/user01/Document/Matsubara/myenv/lib/python3.10/site-packages/torchaudio/functional/functional.py:584: UserWarning: At least one mel filterbank has all zero values. The value for `n_mels` (128) may be set too high. Or, the value for `n_freqs` (201) may be set too low.\n",
      "  warnings.warn(\n"
     ]
    },
    {
     "name": "stdout",
     "output_type": "stream",
     "text": [
      "Processing: //mnt/sdb/ywatanabe/csv_files/2023_2dim_rawcsv_tdx1/s1_g0_l2_t1_tdx1.csv\n"
     ]
    },
    {
     "name": "stderr",
     "output_type": "stream",
     "text": [
      "/home/user01/Document/Matsubara/myenv/lib/python3.10/site-packages/torchaudio/functional/functional.py:584: UserWarning: At least one mel filterbank has all zero values. The value for `n_mels` (128) may be set too high. Or, the value for `n_freqs` (201) may be set too low.\n",
      "  warnings.warn(\n"
     ]
    },
    {
     "name": "stdout",
     "output_type": "stream",
     "text": [
      "Processing: //mnt/sdb/ywatanabe/csv_files/2023_2dim_rawcsv_tdx1/s1_g0_l2_t2_tdx1.csv\n"
     ]
    },
    {
     "name": "stderr",
     "output_type": "stream",
     "text": [
      "/home/user01/Document/Matsubara/myenv/lib/python3.10/site-packages/torchaudio/functional/functional.py:584: UserWarning: At least one mel filterbank has all zero values. The value for `n_mels` (128) may be set too high. Or, the value for `n_freqs` (201) may be set too low.\n",
      "  warnings.warn(\n"
     ]
    },
    {
     "name": "stdout",
     "output_type": "stream",
     "text": [
      "Processing: //mnt/sdb/ywatanabe/csv_files/2023_2dim_rawcsv_tdx1/s1_g0_l2_t3_tdx1.csv\n"
     ]
    },
    {
     "name": "stderr",
     "output_type": "stream",
     "text": [
      "/home/user01/Document/Matsubara/myenv/lib/python3.10/site-packages/torchaudio/functional/functional.py:584: UserWarning: At least one mel filterbank has all zero values. The value for `n_mels` (128) may be set too high. Or, the value for `n_freqs` (201) may be set too low.\n",
      "  warnings.warn(\n"
     ]
    },
    {
     "name": "stdout",
     "output_type": "stream",
     "text": [
      "Processing: //mnt/sdb/ywatanabe/csv_files/2023_2dim_rawcsv_tdx1/s1_g0_l2_t4_tdx1.csv\n"
     ]
    },
    {
     "name": "stderr",
     "output_type": "stream",
     "text": [
      "/home/user01/Document/Matsubara/myenv/lib/python3.10/site-packages/torchaudio/functional/functional.py:584: UserWarning: At least one mel filterbank has all zero values. The value for `n_mels` (128) may be set too high. Or, the value for `n_freqs` (201) may be set too low.\n",
      "  warnings.warn(\n"
     ]
    },
    {
     "name": "stdout",
     "output_type": "stream",
     "text": [
      "Processing: //mnt/sdb/ywatanabe/csv_files/2023_2dim_rawcsv_tdx1/s1_g0_l2_t5_tdx1.csv\n"
     ]
    },
    {
     "name": "stderr",
     "output_type": "stream",
     "text": [
      "/home/user01/Document/Matsubara/myenv/lib/python3.10/site-packages/torchaudio/functional/functional.py:584: UserWarning: At least one mel filterbank has all zero values. The value for `n_mels` (128) may be set too high. Or, the value for `n_freqs` (201) may be set too low.\n",
      "  warnings.warn(\n"
     ]
    },
    {
     "name": "stdout",
     "output_type": "stream",
     "text": [
      "Processing: //mnt/sdb/ywatanabe/csv_files/2023_2dim_rawcsv_tdx1/s1_g0_l3_t2_tdx1.csv\n"
     ]
    },
    {
     "name": "stderr",
     "output_type": "stream",
     "text": [
      "/home/user01/Document/Matsubara/myenv/lib/python3.10/site-packages/torchaudio/functional/functional.py:584: UserWarning: At least one mel filterbank has all zero values. The value for `n_mels` (128) may be set too high. Or, the value for `n_freqs` (201) may be set too low.\n",
      "  warnings.warn(\n"
     ]
    },
    {
     "name": "stdout",
     "output_type": "stream",
     "text": [
      "Processing: //mnt/sdb/ywatanabe/csv_files/2023_2dim_rawcsv_tdx1/s1_g0_l3_t3_tdx1.csv\n"
     ]
    },
    {
     "name": "stderr",
     "output_type": "stream",
     "text": [
      "/home/user01/Document/Matsubara/myenv/lib/python3.10/site-packages/torchaudio/functional/functional.py:584: UserWarning: At least one mel filterbank has all zero values. The value for `n_mels` (128) may be set too high. Or, the value for `n_freqs` (201) may be set too low.\n",
      "  warnings.warn(\n"
     ]
    },
    {
     "name": "stdout",
     "output_type": "stream",
     "text": [
      "Processing: //mnt/sdb/ywatanabe/csv_files/2023_2dim_rawcsv_tdx1/s1_g0_l3_t4_tdx1.csv\n"
     ]
    },
    {
     "name": "stderr",
     "output_type": "stream",
     "text": [
      "/home/user01/Document/Matsubara/myenv/lib/python3.10/site-packages/torchaudio/functional/functional.py:584: UserWarning: At least one mel filterbank has all zero values. The value for `n_mels` (128) may be set too high. Or, the value for `n_freqs` (201) may be set too low.\n",
      "  warnings.warn(\n"
     ]
    },
    {
     "name": "stdout",
     "output_type": "stream",
     "text": [
      "Processing: //mnt/sdb/ywatanabe/csv_files/2023_2dim_rawcsv_tdx1/s1_g0_l3_t5_tdx1.csv\n"
     ]
    },
    {
     "name": "stderr",
     "output_type": "stream",
     "text": [
      "/home/user01/Document/Matsubara/myenv/lib/python3.10/site-packages/torchaudio/functional/functional.py:584: UserWarning: At least one mel filterbank has all zero values. The value for `n_mels` (128) may be set too high. Or, the value for `n_freqs` (201) may be set too low.\n",
      "  warnings.warn(\n"
     ]
    },
    {
     "name": "stdout",
     "output_type": "stream",
     "text": [
      "Processing: //mnt/sdb/ywatanabe/csv_files/2023_2dim_rawcsv_tdx1/s1_g0_l3_t6_tdx1.csv\n"
     ]
    },
    {
     "name": "stderr",
     "output_type": "stream",
     "text": [
      "/home/user01/Document/Matsubara/myenv/lib/python3.10/site-packages/torchaudio/functional/functional.py:584: UserWarning: At least one mel filterbank has all zero values. The value for `n_mels` (128) may be set too high. Or, the value for `n_freqs` (201) may be set too low.\n",
      "  warnings.warn(\n"
     ]
    },
    {
     "name": "stdout",
     "output_type": "stream",
     "text": [
      "Processing: //mnt/sdb/ywatanabe/csv_files/2023_2dim_rawcsv_tdx1/s2_g0_l1_t1_tdx1.csv\n"
     ]
    },
    {
     "name": "stderr",
     "output_type": "stream",
     "text": [
      "/home/user01/Document/Matsubara/myenv/lib/python3.10/site-packages/torchaudio/functional/functional.py:584: UserWarning: At least one mel filterbank has all zero values. The value for `n_mels` (128) may be set too high. Or, the value for `n_freqs` (201) may be set too low.\n",
      "  warnings.warn(\n"
     ]
    },
    {
     "name": "stdout",
     "output_type": "stream",
     "text": [
      "Processing: //mnt/sdb/ywatanabe/csv_files/2023_2dim_rawcsv_tdx1/s2_g0_l1_t2_tdx1.csv\n"
     ]
    },
    {
     "name": "stderr",
     "output_type": "stream",
     "text": [
      "/home/user01/Document/Matsubara/myenv/lib/python3.10/site-packages/torchaudio/functional/functional.py:584: UserWarning: At least one mel filterbank has all zero values. The value for `n_mels` (128) may be set too high. Or, the value for `n_freqs` (201) may be set too low.\n",
      "  warnings.warn(\n"
     ]
    },
    {
     "name": "stdout",
     "output_type": "stream",
     "text": [
      "Processing: //mnt/sdb/ywatanabe/csv_files/2023_2dim_rawcsv_tdx1/s2_g0_l1_t4_tdx1.csv\n"
     ]
    },
    {
     "name": "stderr",
     "output_type": "stream",
     "text": [
      "/home/user01/Document/Matsubara/myenv/lib/python3.10/site-packages/torchaudio/functional/functional.py:584: UserWarning: At least one mel filterbank has all zero values. The value for `n_mels` (128) may be set too high. Or, the value for `n_freqs` (201) may be set too low.\n",
      "  warnings.warn(\n"
     ]
    },
    {
     "name": "stdout",
     "output_type": "stream",
     "text": [
      "Processing: //mnt/sdb/ywatanabe/csv_files/2023_2dim_rawcsv_tdx1/s2_g0_l1_t5_tdx1.csv\n"
     ]
    },
    {
     "name": "stderr",
     "output_type": "stream",
     "text": [
      "/home/user01/Document/Matsubara/myenv/lib/python3.10/site-packages/torchaudio/functional/functional.py:584: UserWarning: At least one mel filterbank has all zero values. The value for `n_mels` (128) may be set too high. Or, the value for `n_freqs` (201) may be set too low.\n",
      "  warnings.warn(\n"
     ]
    },
    {
     "name": "stdout",
     "output_type": "stream",
     "text": [
      "Processing: //mnt/sdb/ywatanabe/csv_files/2023_2dim_rawcsv_tdx1/s2_g0_l1_t6_tdx1.csv\n"
     ]
    },
    {
     "name": "stderr",
     "output_type": "stream",
     "text": [
      "/home/user01/Document/Matsubara/myenv/lib/python3.10/site-packages/torchaudio/functional/functional.py:584: UserWarning: At least one mel filterbank has all zero values. The value for `n_mels` (128) may be set too high. Or, the value for `n_freqs` (201) may be set too low.\n",
      "  warnings.warn(\n"
     ]
    },
    {
     "name": "stdout",
     "output_type": "stream",
     "text": [
      "Processing: //mnt/sdb/ywatanabe/csv_files/2023_2dim_rawcsv_tdx1/s2_g0_l2_t1_tdx1.csv\n"
     ]
    },
    {
     "name": "stderr",
     "output_type": "stream",
     "text": [
      "/home/user01/Document/Matsubara/myenv/lib/python3.10/site-packages/torchaudio/functional/functional.py:584: UserWarning: At least one mel filterbank has all zero values. The value for `n_mels` (128) may be set too high. Or, the value for `n_freqs` (201) may be set too low.\n",
      "  warnings.warn(\n"
     ]
    },
    {
     "name": "stdout",
     "output_type": "stream",
     "text": [
      "Processing: //mnt/sdb/ywatanabe/csv_files/2023_2dim_rawcsv_tdx1/s2_g0_l2_t2_tdx1.csv\n"
     ]
    },
    {
     "name": "stderr",
     "output_type": "stream",
     "text": [
      "/home/user01/Document/Matsubara/myenv/lib/python3.10/site-packages/torchaudio/functional/functional.py:584: UserWarning: At least one mel filterbank has all zero values. The value for `n_mels` (128) may be set too high. Or, the value for `n_freqs` (201) may be set too low.\n",
      "  warnings.warn(\n"
     ]
    },
    {
     "name": "stdout",
     "output_type": "stream",
     "text": [
      "Processing: //mnt/sdb/ywatanabe/csv_files/2023_2dim_rawcsv_tdx1/s2_g0_l2_t3_tdx1.csv\n"
     ]
    },
    {
     "name": "stderr",
     "output_type": "stream",
     "text": [
      "/home/user01/Document/Matsubara/myenv/lib/python3.10/site-packages/torchaudio/functional/functional.py:584: UserWarning: At least one mel filterbank has all zero values. The value for `n_mels` (128) may be set too high. Or, the value for `n_freqs` (201) may be set too low.\n",
      "  warnings.warn(\n"
     ]
    },
    {
     "name": "stdout",
     "output_type": "stream",
     "text": [
      "Processing: //mnt/sdb/ywatanabe/csv_files/2023_2dim_rawcsv_tdx1/s2_g0_l2_t5_tdx1.csv\n"
     ]
    },
    {
     "name": "stderr",
     "output_type": "stream",
     "text": [
      "/home/user01/Document/Matsubara/myenv/lib/python3.10/site-packages/torchaudio/functional/functional.py:584: UserWarning: At least one mel filterbank has all zero values. The value for `n_mels` (128) may be set too high. Or, the value for `n_freqs` (201) may be set too low.\n",
      "  warnings.warn(\n"
     ]
    },
    {
     "name": "stdout",
     "output_type": "stream",
     "text": [
      "Processing: //mnt/sdb/ywatanabe/csv_files/2023_2dim_rawcsv_tdx1/s2_g0_l2_t6_tdx1.csv\n"
     ]
    },
    {
     "name": "stderr",
     "output_type": "stream",
     "text": [
      "/home/user01/Document/Matsubara/myenv/lib/python3.10/site-packages/torchaudio/functional/functional.py:584: UserWarning: At least one mel filterbank has all zero values. The value for `n_mels` (128) may be set too high. Or, the value for `n_freqs` (201) may be set too low.\n",
      "  warnings.warn(\n"
     ]
    },
    {
     "name": "stdout",
     "output_type": "stream",
     "text": [
      "Processing: //mnt/sdb/ywatanabe/csv_files/2023_2dim_rawcsv_tdx1/s2_g0_l3_t1_tdx1.csv\n"
     ]
    },
    {
     "name": "stderr",
     "output_type": "stream",
     "text": [
      "/home/user01/Document/Matsubara/myenv/lib/python3.10/site-packages/torchaudio/functional/functional.py:584: UserWarning: At least one mel filterbank has all zero values. The value for `n_mels` (128) may be set too high. Or, the value for `n_freqs` (201) may be set too low.\n",
      "  warnings.warn(\n"
     ]
    },
    {
     "name": "stdout",
     "output_type": "stream",
     "text": [
      "Processing: //mnt/sdb/ywatanabe/csv_files/2023_2dim_rawcsv_tdx1/s2_g0_l3_t3_tdx1.csv\n"
     ]
    },
    {
     "name": "stderr",
     "output_type": "stream",
     "text": [
      "/home/user01/Document/Matsubara/myenv/lib/python3.10/site-packages/torchaudio/functional/functional.py:584: UserWarning: At least one mel filterbank has all zero values. The value for `n_mels` (128) may be set too high. Or, the value for `n_freqs` (201) may be set too low.\n",
      "  warnings.warn(\n"
     ]
    },
    {
     "name": "stdout",
     "output_type": "stream",
     "text": [
      "Processing: //mnt/sdb/ywatanabe/csv_files/2023_2dim_rawcsv_tdx1/s2_g0_l3_t4_tdx1.csv\n"
     ]
    },
    {
     "name": "stderr",
     "output_type": "stream",
     "text": [
      "/home/user01/Document/Matsubara/myenv/lib/python3.10/site-packages/torchaudio/functional/functional.py:584: UserWarning: At least one mel filterbank has all zero values. The value for `n_mels` (128) may be set too high. Or, the value for `n_freqs` (201) may be set too low.\n",
      "  warnings.warn(\n"
     ]
    },
    {
     "name": "stdout",
     "output_type": "stream",
     "text": [
      "Processing: //mnt/sdb/ywatanabe/csv_files/2023_2dim_rawcsv_tdx1/s2_g0_l3_t5_tdx1.csv\n"
     ]
    },
    {
     "name": "stderr",
     "output_type": "stream",
     "text": [
      "/home/user01/Document/Matsubara/myenv/lib/python3.10/site-packages/torchaudio/functional/functional.py:584: UserWarning: At least one mel filterbank has all zero values. The value for `n_mels` (128) may be set too high. Or, the value for `n_freqs` (201) may be set too low.\n",
      "  warnings.warn(\n"
     ]
    },
    {
     "name": "stdout",
     "output_type": "stream",
     "text": [
      "Processing: //mnt/sdb/ywatanabe/csv_files/2023_2dim_rawcsv_tdx1/s2_g0_l3_t6_tdx1.csv\n"
     ]
    },
    {
     "name": "stderr",
     "output_type": "stream",
     "text": [
      "/home/user01/Document/Matsubara/myenv/lib/python3.10/site-packages/torchaudio/functional/functional.py:584: UserWarning: At least one mel filterbank has all zero values. The value for `n_mels` (128) may be set too high. Or, the value for `n_freqs` (201) may be set too low.\n",
      "  warnings.warn(\n"
     ]
    },
    {
     "name": "stdout",
     "output_type": "stream",
     "text": [
      "Processing: //mnt/sdb/ywatanabe/csv_files/2023_2dim_rawcsv_tdx1/s3_g0_l1_t1_tdx1.csv\n"
     ]
    },
    {
     "name": "stderr",
     "output_type": "stream",
     "text": [
      "/home/user01/Document/Matsubara/myenv/lib/python3.10/site-packages/torchaudio/functional/functional.py:584: UserWarning: At least one mel filterbank has all zero values. The value for `n_mels` (128) may be set too high. Or, the value for `n_freqs` (201) may be set too low.\n",
      "  warnings.warn(\n"
     ]
    },
    {
     "name": "stdout",
     "output_type": "stream",
     "text": [
      "Processing: //mnt/sdb/ywatanabe/csv_files/2023_2dim_rawcsv_tdx1/s3_g0_l1_t2_tdx1.csv\n"
     ]
    },
    {
     "name": "stderr",
     "output_type": "stream",
     "text": [
      "/home/user01/Document/Matsubara/myenv/lib/python3.10/site-packages/torchaudio/functional/functional.py:584: UserWarning: At least one mel filterbank has all zero values. The value for `n_mels` (128) may be set too high. Or, the value for `n_freqs` (201) may be set too low.\n",
      "  warnings.warn(\n"
     ]
    },
    {
     "name": "stdout",
     "output_type": "stream",
     "text": [
      "Processing: //mnt/sdb/ywatanabe/csv_files/2023_2dim_rawcsv_tdx1/s3_g0_l1_t3_tdx1.csv\n"
     ]
    },
    {
     "name": "stderr",
     "output_type": "stream",
     "text": [
      "/home/user01/Document/Matsubara/myenv/lib/python3.10/site-packages/torchaudio/functional/functional.py:584: UserWarning: At least one mel filterbank has all zero values. The value for `n_mels` (128) may be set too high. Or, the value for `n_freqs` (201) may be set too low.\n",
      "  warnings.warn(\n"
     ]
    },
    {
     "name": "stdout",
     "output_type": "stream",
     "text": [
      "Processing: //mnt/sdb/ywatanabe/csv_files/2023_2dim_rawcsv_tdx1/s3_g0_l1_t5_tdx1.csv\n"
     ]
    },
    {
     "name": "stderr",
     "output_type": "stream",
     "text": [
      "/home/user01/Document/Matsubara/myenv/lib/python3.10/site-packages/torchaudio/functional/functional.py:584: UserWarning: At least one mel filterbank has all zero values. The value for `n_mels` (128) may be set too high. Or, the value for `n_freqs` (201) may be set too low.\n",
      "  warnings.warn(\n"
     ]
    },
    {
     "name": "stdout",
     "output_type": "stream",
     "text": [
      "Processing: //mnt/sdb/ywatanabe/csv_files/2023_2dim_rawcsv_tdx1/s3_g0_l1_t6_tdx1.csv\n"
     ]
    },
    {
     "name": "stderr",
     "output_type": "stream",
     "text": [
      "/home/user01/Document/Matsubara/myenv/lib/python3.10/site-packages/torchaudio/functional/functional.py:584: UserWarning: At least one mel filterbank has all zero values. The value for `n_mels` (128) may be set too high. Or, the value for `n_freqs` (201) may be set too low.\n",
      "  warnings.warn(\n"
     ]
    },
    {
     "name": "stdout",
     "output_type": "stream",
     "text": [
      "Processing: //mnt/sdb/ywatanabe/csv_files/2023_2dim_rawcsv_tdx1/s3_g0_l1_t7_tdx1.csv\n"
     ]
    },
    {
     "name": "stderr",
     "output_type": "stream",
     "text": [
      "/home/user01/Document/Matsubara/myenv/lib/python3.10/site-packages/torchaudio/functional/functional.py:584: UserWarning: At least one mel filterbank has all zero values. The value for `n_mels` (128) may be set too high. Or, the value for `n_freqs` (201) may be set too low.\n",
      "  warnings.warn(\n"
     ]
    },
    {
     "name": "stdout",
     "output_type": "stream",
     "text": [
      "Processing: //mnt/sdb/ywatanabe/csv_files/2023_2dim_rawcsv_tdx1/s3_g0_l2_t1_tdx1.csv\n"
     ]
    },
    {
     "name": "stderr",
     "output_type": "stream",
     "text": [
      "/home/user01/Document/Matsubara/myenv/lib/python3.10/site-packages/torchaudio/functional/functional.py:584: UserWarning: At least one mel filterbank has all zero values. The value for `n_mels` (128) may be set too high. Or, the value for `n_freqs` (201) may be set too low.\n",
      "  warnings.warn(\n"
     ]
    },
    {
     "name": "stdout",
     "output_type": "stream",
     "text": [
      "Processing: //mnt/sdb/ywatanabe/csv_files/2023_2dim_rawcsv_tdx1/s3_g0_l2_t2_tdx1.csv\n"
     ]
    },
    {
     "name": "stderr",
     "output_type": "stream",
     "text": [
      "/home/user01/Document/Matsubara/myenv/lib/python3.10/site-packages/torchaudio/functional/functional.py:584: UserWarning: At least one mel filterbank has all zero values. The value for `n_mels` (128) may be set too high. Or, the value for `n_freqs` (201) may be set too low.\n",
      "  warnings.warn(\n"
     ]
    },
    {
     "name": "stdout",
     "output_type": "stream",
     "text": [
      "Processing: //mnt/sdb/ywatanabe/csv_files/2023_2dim_rawcsv_tdx1/s3_g0_l2_t3_tdx1.csv\n"
     ]
    },
    {
     "name": "stderr",
     "output_type": "stream",
     "text": [
      "/home/user01/Document/Matsubara/myenv/lib/python3.10/site-packages/torchaudio/functional/functional.py:584: UserWarning: At least one mel filterbank has all zero values. The value for `n_mels` (128) may be set too high. Or, the value for `n_freqs` (201) may be set too low.\n",
      "  warnings.warn(\n"
     ]
    },
    {
     "name": "stdout",
     "output_type": "stream",
     "text": [
      "Processing: //mnt/sdb/ywatanabe/csv_files/2023_2dim_rawcsv_tdx1/s3_g0_l2_t4_tdx1.csv\n"
     ]
    },
    {
     "name": "stderr",
     "output_type": "stream",
     "text": [
      "/home/user01/Document/Matsubara/myenv/lib/python3.10/site-packages/torchaudio/functional/functional.py:584: UserWarning: At least one mel filterbank has all zero values. The value for `n_mels` (128) may be set too high. Or, the value for `n_freqs` (201) may be set too low.\n",
      "  warnings.warn(\n"
     ]
    },
    {
     "name": "stdout",
     "output_type": "stream",
     "text": [
      "Processing: //mnt/sdb/ywatanabe/csv_files/2023_2dim_rawcsv_tdx1/s3_g0_l2_t5_tdx1.csv\n"
     ]
    },
    {
     "name": "stderr",
     "output_type": "stream",
     "text": [
      "/home/user01/Document/Matsubara/myenv/lib/python3.10/site-packages/torchaudio/functional/functional.py:584: UserWarning: At least one mel filterbank has all zero values. The value for `n_mels` (128) may be set too high. Or, the value for `n_freqs` (201) may be set too low.\n",
      "  warnings.warn(\n"
     ]
    },
    {
     "name": "stdout",
     "output_type": "stream",
     "text": [
      "Processing: //mnt/sdb/ywatanabe/csv_files/2023_2dim_rawcsv_tdx1/s3_g0_l3_t2_tdx1.csv\n"
     ]
    },
    {
     "name": "stderr",
     "output_type": "stream",
     "text": [
      "/home/user01/Document/Matsubara/myenv/lib/python3.10/site-packages/torchaudio/functional/functional.py:584: UserWarning: At least one mel filterbank has all zero values. The value for `n_mels` (128) may be set too high. Or, the value for `n_freqs` (201) may be set too low.\n",
      "  warnings.warn(\n"
     ]
    },
    {
     "name": "stdout",
     "output_type": "stream",
     "text": [
      "Processing: //mnt/sdb/ywatanabe/csv_files/2023_2dim_rawcsv_tdx1/s3_g0_l3_t3_tdx1.csv\n"
     ]
    },
    {
     "name": "stderr",
     "output_type": "stream",
     "text": [
      "/home/user01/Document/Matsubara/myenv/lib/python3.10/site-packages/torchaudio/functional/functional.py:584: UserWarning: At least one mel filterbank has all zero values. The value for `n_mels` (128) may be set too high. Or, the value for `n_freqs` (201) may be set too low.\n",
      "  warnings.warn(\n"
     ]
    },
    {
     "name": "stdout",
     "output_type": "stream",
     "text": [
      "Processing: //mnt/sdb/ywatanabe/csv_files/2023_2dim_rawcsv_tdx1/s3_g0_l3_t4_tdx1.csv\n"
     ]
    },
    {
     "name": "stderr",
     "output_type": "stream",
     "text": [
      "/home/user01/Document/Matsubara/myenv/lib/python3.10/site-packages/torchaudio/functional/functional.py:584: UserWarning: At least one mel filterbank has all zero values. The value for `n_mels` (128) may be set too high. Or, the value for `n_freqs` (201) may be set too low.\n",
      "  warnings.warn(\n"
     ]
    },
    {
     "name": "stdout",
     "output_type": "stream",
     "text": [
      "Done. Saved to //mnt/sdb/matsubara/input/all_features.csv\n"
     ]
    }
   ],
   "source": [
    "import os\n",
    "import pandas as pd\n",
    "import numpy as np\n",
    "import torch\n",
    "import torchaudio\n",
    "\n",
    "def compute_scalar_from_waveform(waveform, sr=44100, n_mfcc=20):\n",
    "    \"\"\"\n",
    "    例: 波形に対して torchaudio で MFCC を計算し、\n",
    "        その全要素の平均をスカラー値として返す。\n",
    "    \"\"\"\n",
    "    device = torch.device(\"cuda\" if torch.cuda.is_available() else \"cpu\")\n",
    "\n",
    "    mfcc_transform = torchaudio.transforms.MFCC(\n",
    "        sample_rate=sr,\n",
    "        n_mfcc=n_mfcc\n",
    "    ).to(device)\n",
    "\n",
    "    waveform_tensor = torch.from_numpy(waveform).unsqueeze(0).float().to(device)\n",
    "    mfcc_tensor = mfcc_transform(waveform_tensor)\n",
    "    mfcc_tensor = mfcc_tensor.squeeze(0)  # shape: (n_mfcc, time_frames)\n",
    "\n",
    "    scalar_value = mfcc_tensor.mean().item()\n",
    "    return scalar_value\n",
    "\n",
    "def process_all_csv(input_dir, output_csv, sr=44100, n_mfcc=20):\n",
    "    \"\"\"\n",
    "    - 指定ディレクトリ(input_dir)にある .csv ファイルを全て走査\n",
    "    - 各ファイルについて:\n",
    "      1) すべての行に対して音響特徴量 (スカラー)を計算\n",
    "      2) 行ごとの特徴量を平均\n",
    "      3) (ファイル名, 平均特徴量) として出力用リストに1行追加\n",
    "    - 最後に (ファイル数行) のDataFrameを CSV出力する。\n",
    "    \"\"\"\n",
    "\n",
    "    csv_files = [f for f in os.listdir(input_dir) if f.endswith(\".csv\")]\n",
    "    csv_files.sort()\n",
    "\n",
    "    # 結果を格納するリスト (ファイル単位で1行ずつ)\n",
    "    output_data = []\n",
    "\n",
    "    for csv_file in csv_files:\n",
    "        file_path = os.path.join(input_dir, csv_file)\n",
    "        print(f\"Processing: {file_path}\")\n",
    "\n",
    "        # CSV 読み込み: A列(時刻), B列以降(波形)\n",
    "        df = pd.read_csv(file_path, header=None)\n",
    "\n",
    "        # ファイル内の行ごとの特徴量を計算して蓄積\n",
    "        scalar_values = []\n",
    "        for i in range(len(df)):\n",
    "            # B列以降の波形を取り出し\n",
    "            row_waveform = df.iloc[i, 1:].values.flatten().astype(np.float32)\n",
    "\n",
    "            # 行ごとの特徴量を計算\n",
    "            val = compute_scalar_from_waveform(row_waveform, sr=sr, n_mfcc=n_mfcc)\n",
    "            scalar_values.append(val)\n",
    "\n",
    "        # ファイル内の全行(=全測定)の特徴量を平均\n",
    "        if len(scalar_values) > 0:\n",
    "            mean_val = float(np.mean(scalar_values))\n",
    "        else:\n",
    "            mean_val = float('nan')\n",
    "\n",
    "        # 出力フォーマット: [ケース名(CSVファイル), 平均特徴量]\n",
    "        output_data.append([csv_file, mean_val])\n",
    "\n",
    "    # 最終的に DataFrame 化 → CSV 出力\n",
    "    out_df = pd.DataFrame(output_data, columns=[\"SourceCSV\", \"MeanFeatureValue\"])\n",
    "    out_df.to_csv(output_csv, index=False, encoding=\"utf-8\")\n",
    "\n",
    "    print(f\"Done. Saved to {output_csv}\")\n",
    "\n",
    "if __name__ == \"__main__\":\n",
    "    input_dir = \"//mnt/sdb/ywatanabe/csv_files/2023_2dim_rawcsv_tdx1\"\n",
    "    output_csv = \"//mnt/sdb/matsubara/input/all_features.csv\"\n",
    "\n",
    "    sr = 44100  # サンプリングレート (実際に合わせて調整)\n",
    "    n_mfcc = 20 # MFCC次元 (必要に応じて変更)\n",
    "\n",
    "    process_all_csv(input_dir, output_csv, sr=sr, n_mfcc=n_mfcc)\n"
   ]
  },
  {
   "cell_type": "code",
   "execution_count": 28,
   "metadata": {},
   "outputs": [
    {
     "data": {
      "text/plain": [
       "<bound method NDFrame.head of                SourceCSV  MeanFeatureValue\n",
       "0   s1_g0_l1_t1_tdx1.csv          8.415898\n",
       "1   s1_g0_l1_t2_tdx1.csv          8.421776\n",
       "2   s1_g0_l1_t3_tdx1.csv          8.640985\n",
       "3   s1_g0_l1_t4_tdx1.csv          8.608584\n",
       "4   s1_g0_l1_t5_tdx1.csv          8.573729\n",
       "5   s1_g0_l2_t1_tdx1.csv          8.385362\n",
       "6   s1_g0_l2_t2_tdx1.csv          8.402472\n",
       "7   s1_g0_l2_t3_tdx1.csv          8.442112\n",
       "8   s1_g0_l2_t4_tdx1.csv          8.593244\n",
       "9   s1_g0_l2_t5_tdx1.csv          8.603125\n",
       "10  s1_g0_l3_t2_tdx1.csv          8.319590\n",
       "11  s1_g0_l3_t3_tdx1.csv          8.329208\n",
       "12  s1_g0_l3_t4_tdx1.csv          8.746826\n",
       "13  s1_g0_l3_t5_tdx1.csv          8.635511\n",
       "14  s1_g0_l3_t6_tdx1.csv          8.622119\n",
       "15  s2_g0_l1_t1_tdx1.csv          8.506963\n",
       "16  s2_g0_l1_t2_tdx1.csv          8.552431\n",
       "17  s2_g0_l1_t4_tdx1.csv          8.438498\n",
       "18  s2_g0_l1_t5_tdx1.csv          8.508600\n",
       "19  s2_g0_l1_t6_tdx1.csv          8.494484\n",
       "20  s2_g0_l2_t1_tdx1.csv          8.415078\n",
       "21  s2_g0_l2_t2_tdx1.csv          8.379889\n",
       "22  s2_g0_l2_t3_tdx1.csv          8.377529\n",
       "23  s2_g0_l2_t5_tdx1.csv          8.407856\n",
       "24  s2_g0_l2_t6_tdx1.csv          8.400419\n",
       "25  s2_g0_l3_t1_tdx1.csv          8.347043\n",
       "26  s2_g0_l3_t3_tdx1.csv          8.402336\n",
       "27  s2_g0_l3_t4_tdx1.csv          8.378019\n",
       "28  s2_g0_l3_t5_tdx1.csv          8.397551\n",
       "29  s2_g0_l3_t6_tdx1.csv          8.379260\n",
       "30  s3_g0_l1_t1_tdx1.csv          8.390359\n",
       "31  s3_g0_l1_t2_tdx1.csv          8.403165\n",
       "32  s3_g0_l1_t3_tdx1.csv          8.401780\n",
       "33  s3_g0_l1_t5_tdx1.csv          3.103794\n",
       "34  s3_g0_l1_t6_tdx1.csv          8.324318\n",
       "35  s3_g0_l1_t7_tdx1.csv          8.450404\n",
       "36  s3_g0_l2_t1_tdx1.csv          8.491354\n",
       "37  s3_g0_l2_t2_tdx1.csv          8.486328\n",
       "38  s3_g0_l2_t3_tdx1.csv          8.353156\n",
       "39  s3_g0_l2_t4_tdx1.csv          8.360434\n",
       "40  s3_g0_l2_t5_tdx1.csv          8.374874\n",
       "41  s3_g0_l3_t2_tdx1.csv          8.424636\n",
       "42  s3_g0_l3_t3_tdx1.csv          8.491043\n",
       "43  s3_g0_l3_t4_tdx1.csv          8.438492>"
      ]
     },
     "execution_count": 28,
     "metadata": {},
     "output_type": "execute_result"
    }
   ],
   "source": [
    "import pandas as pd\n",
    "df = pd.read_csv(\"//mnt/sdb/matsubara/input/all_features.csv\")\n",
    "df.head"
   ]
  },
  {
   "cell_type": "code",
   "execution_count": 31,
   "metadata": {},
   "outputs": [
    {
     "name": "stdout",
     "output_type": "stream",
     "text": [
      "              SourceCSV  MeanFeatureValue  FeatureStd\n",
      "0  s1_g0_l1_t1_tdx1.csv          8.415898    0.102884\n",
      "1  s1_g0_l1_t2_tdx1.csv          8.421776    0.110117\n",
      "2  s1_g0_l1_t3_tdx1.csv          8.640985    0.379857\n",
      "3  s1_g0_l1_t4_tdx1.csv          8.608584    0.339987\n",
      "4  s1_g0_l1_t5_tdx1.csv          8.573729    0.297098\n",
      "(44, 3)\n",
      "標準化が完了しました。\n"
     ]
    }
   ],
   "source": [
    "import pandas as pd\n",
    "\n",
    "def standardize_and_add_third_column(input_csv, output_csv):\n",
    "    # CSV を読み込み（列名が無い場合は適宜設定）\n",
    "    df = pd.read_csv(input_csv)\n",
    "    \n",
    "    # 2列目 \"MeanFeatureValue\" の平均・標準偏差を計算\n",
    "    mean_val = df[\"MeanFeatureValue\"].mean()\n",
    "    std_val = df[\"MeanFeatureValue\"].std()\n",
    "\n",
    "    # 新しい列(3列目) として標準化した値を追加\n",
    "    df[\"FeatureStd\"] = (df[\"MeanFeatureValue\"] - mean_val) / std_val\n",
    "    \n",
    "    # 確認\n",
    "    print(df.head())\n",
    "    print(df.shape)  # shape は (44, 3) になるはず\n",
    "    \n",
    "    # CSV 出力（列名を含めたい場合はデフォルトのままでOK）\n",
    "    df.to_csv(output_csv, index=False)\n",
    "\n",
    "if __name__ == \"__main__\":\n",
    "    input_csv = \"//mnt/sdb/matsubara/input/all_features.csv\"\n",
    "    output_csv = \"//mnt/sdb/matsubara/input/all_features_standardized.csv\"\n",
    "\n",
    "    standardize_and_add_third_column(input_csv, output_csv)\n",
    "    print(\"標準化が完了しました。\")\n"
   ]
  },
  {
   "cell_type": "code",
   "execution_count": 35,
   "metadata": {},
   "outputs": [
    {
     "name": "stdout",
     "output_type": "stream",
     "text": [
      "(44, 2)\n",
      "(71, 3)\n"
     ]
    },
    {
     "data": {
      "text/plain": [
       "<bound method NDFrame.head of                SourceCSV  MeanFeatureValue\n",
       "0   s1_g0_l1_t1_tdx1.csv          8.415898\n",
       "1   s1_g0_l1_t2_tdx1.csv          8.421776\n",
       "2   s1_g0_l1_t3_tdx1.csv          8.640985\n",
       "3   s1_g0_l1_t4_tdx1.csv          8.608584\n",
       "4   s1_g0_l1_t5_tdx1.csv          8.573729\n",
       "5   s1_g0_l2_t1_tdx1.csv          8.385362\n",
       "6   s1_g0_l2_t2_tdx1.csv          8.402472\n",
       "7   s1_g0_l2_t3_tdx1.csv          8.442112\n",
       "8   s1_g0_l2_t4_tdx1.csv          8.593244\n",
       "9   s1_g0_l2_t5_tdx1.csv          8.603125\n",
       "10  s1_g0_l3_t2_tdx1.csv          8.319590\n",
       "11  s1_g0_l3_t3_tdx1.csv          8.329208\n",
       "12  s1_g0_l3_t4_tdx1.csv          8.746826\n",
       "13  s1_g0_l3_t5_tdx1.csv          8.635511\n",
       "14  s1_g0_l3_t6_tdx1.csv          8.622119\n",
       "15  s2_g0_l1_t1_tdx1.csv          8.506963\n",
       "16  s2_g0_l1_t2_tdx1.csv          8.552431\n",
       "17  s2_g0_l1_t4_tdx1.csv          8.438498\n",
       "18  s2_g0_l1_t5_tdx1.csv          8.508600\n",
       "19  s2_g0_l1_t6_tdx1.csv          8.494484\n",
       "20  s2_g0_l2_t1_tdx1.csv          8.415078\n",
       "21  s2_g0_l2_t2_tdx1.csv          8.379889\n",
       "22  s2_g0_l2_t3_tdx1.csv          8.377529\n",
       "23  s2_g0_l2_t5_tdx1.csv          8.407856\n",
       "24  s2_g0_l2_t6_tdx1.csv          8.400419\n",
       "25  s2_g0_l3_t1_tdx1.csv          8.347043\n",
       "26  s2_g0_l3_t3_tdx1.csv          8.402336\n",
       "27  s2_g0_l3_t4_tdx1.csv          8.378019\n",
       "28  s2_g0_l3_t5_tdx1.csv          8.397551\n",
       "29  s2_g0_l3_t6_tdx1.csv          8.379260\n",
       "30  s3_g0_l1_t1_tdx1.csv          8.390359\n",
       "31  s3_g0_l1_t2_tdx1.csv          8.403165\n",
       "32  s3_g0_l1_t3_tdx1.csv          8.401780\n",
       "33  s3_g0_l1_t5_tdx1.csv          3.103794\n",
       "34  s3_g0_l1_t6_tdx1.csv          8.324318\n",
       "35  s3_g0_l1_t7_tdx1.csv          8.450404\n",
       "36  s3_g0_l2_t1_tdx1.csv          8.491354\n",
       "37  s3_g0_l2_t2_tdx1.csv          8.486328\n",
       "38  s3_g0_l2_t3_tdx1.csv          8.353156\n",
       "39  s3_g0_l2_t4_tdx1.csv          8.360434\n",
       "40  s3_g0_l2_t5_tdx1.csv          8.374874\n",
       "41  s3_g0_l3_t2_tdx1.csv          8.424636\n",
       "42  s3_g0_l3_t3_tdx1.csv          8.491043\n",
       "43  s3_g0_l3_t4_tdx1.csv          8.438492>"
      ]
     },
     "execution_count": 35,
     "metadata": {},
     "output_type": "execute_result"
    }
   ],
   "source": [
    "import pandas as pd\n",
    "df = pd.read_csv(\"//mnt/sdb/matsubara/input/all_features.csv\")\n",
    "\n",
    "sample =pd.read_csv(\"//mnt/sdb/matsubara/target/t_data.csv\")\n",
    "print(df.shape)\n",
    "print(sample.shape)\n",
    "df.head\n"
   ]
  },
  {
   "cell_type": "code",
   "execution_count": 36,
   "metadata": {},
   "outputs": [
    {
     "name": "stdout",
     "output_type": "stream",
     "text": [
      "t_data columns: Index(['0', '5', '2'], dtype='object')\n",
      "all_features columns: Index(['SourceCSV', 'MeanFeatureValue', 'ケース名'], dtype='object')\n"
     ]
    },
    {
     "ename": "KeyError",
     "evalue": "'ケース名'",
     "output_type": "error",
     "traceback": [
      "\u001b[0;31m---------------------------------------------------------------------------\u001b[0m",
      "\u001b[0;31mKeyError\u001b[0m                                  Traceback (most recent call last)",
      "\u001b[0;32m/tmp/ipykernel_1606585/627338106.py\u001b[0m in \u001b[0;36m?\u001b[0;34m()\u001b[0m\n\u001b[1;32m     79\u001b[0m     \u001b[0mt_data_csv\u001b[0m     \u001b[0;34m=\u001b[0m \u001b[0;34m\"//mnt/sdb/matsubara/target/t_data.csv\"\u001b[0m\u001b[0;34m\u001b[0m\u001b[0;34m\u001b[0m\u001b[0m\n\u001b[1;32m     80\u001b[0m     \u001b[0mall_features\u001b[0m   \u001b[0;34m=\u001b[0m \u001b[0;34m\"//mnt/sdb/matsubara/input/all_features.csv\"\u001b[0m\u001b[0;34m\u001b[0m\u001b[0;34m\u001b[0m\u001b[0m\n\u001b[1;32m     81\u001b[0m     \u001b[0moutput_csv\u001b[0m     \u001b[0;34m=\u001b[0m \u001b[0;34m\"//mnt/sdb/matsubara/input/matched.csv\"\u001b[0m\u001b[0;34m\u001b[0m\u001b[0;34m\u001b[0m\u001b[0m\n\u001b[1;32m     82\u001b[0m \u001b[0;34m\u001b[0m\u001b[0m\n\u001b[0;32m---> 83\u001b[0;31m     \u001b[0mmatch_and_order\u001b[0m\u001b[0;34m(\u001b[0m\u001b[0mt_data_csv\u001b[0m\u001b[0;34m,\u001b[0m \u001b[0mall_features\u001b[0m\u001b[0;34m,\u001b[0m \u001b[0moutput_csv\u001b[0m\u001b[0;34m)\u001b[0m\u001b[0;34m\u001b[0m\u001b[0;34m\u001b[0m\u001b[0m\n\u001b[0m",
      "\u001b[0;32m/tmp/ipykernel_1606585/627338106.py\u001b[0m in \u001b[0;36m?\u001b[0;34m(t_data_csv, all_features_csv, output_csv)\u001b[0m\n\u001b[1;32m     60\u001b[0m \u001b[0;34m\u001b[0m\u001b[0m\n\u001b[1;32m     61\u001b[0m     \u001b[0;31m# --- 3) merge ---\u001b[0m\u001b[0;34m\u001b[0m\u001b[0;34m\u001b[0m\u001b[0m\n\u001b[1;32m     62\u001b[0m     \u001b[0;31m# t_data を左にして merge し、共通しないケース名は落としたい => 内部結合 \"inner\"\u001b[0m\u001b[0;34m\u001b[0m\u001b[0;34m\u001b[0m\u001b[0m\n\u001b[1;32m     63\u001b[0m     \u001b[0;31m# ただし t_data の順序を保ちたい => 後でソートし直す\u001b[0m\u001b[0;34m\u001b[0m\u001b[0;34m\u001b[0m\u001b[0m\n\u001b[0;32m---> 64\u001b[0;31m     merged = pd.merge(\n\u001b[0m\u001b[1;32m     65\u001b[0m         \u001b[0mt_df\u001b[0m\u001b[0;34m,\u001b[0m \u001b[0mf_df\u001b[0m\u001b[0;34m,\u001b[0m\u001b[0;34m\u001b[0m\u001b[0;34m\u001b[0m\u001b[0m\n\u001b[1;32m     66\u001b[0m         \u001b[0mon\u001b[0m\u001b[0;34m=\u001b[0m\u001b[0;34m\"ケース名\"\u001b[0m\u001b[0;34m,\u001b[0m\u001b[0;34m\u001b[0m\u001b[0;34m\u001b[0m\u001b[0m\n\u001b[1;32m     67\u001b[0m         \u001b[0mhow\u001b[0m\u001b[0;34m=\u001b[0m\u001b[0;34m\"inner\"\u001b[0m  \u001b[0;31m# マッチしない行は削除\u001b[0m\u001b[0;34m\u001b[0m\u001b[0;34m\u001b[0m\u001b[0m\n",
      "\u001b[0;32m~/Document/Matsubara/myenv/lib/python3.10/site-packages/pandas/core/reshape/merge.py\u001b[0m in \u001b[0;36m?\u001b[0;34m(left, right, how, on, left_on, right_on, left_index, right_index, sort, suffixes, copy, indicator, validate)\u001b[0m\n\u001b[1;32m    166\u001b[0m             \u001b[0mvalidate\u001b[0m\u001b[0;34m=\u001b[0m\u001b[0mvalidate\u001b[0m\u001b[0;34m,\u001b[0m\u001b[0;34m\u001b[0m\u001b[0;34m\u001b[0m\u001b[0m\n\u001b[1;32m    167\u001b[0m             \u001b[0mcopy\u001b[0m\u001b[0;34m=\u001b[0m\u001b[0mcopy\u001b[0m\u001b[0;34m,\u001b[0m\u001b[0;34m\u001b[0m\u001b[0;34m\u001b[0m\u001b[0m\n\u001b[1;32m    168\u001b[0m         )\n\u001b[1;32m    169\u001b[0m     \u001b[0;32melse\u001b[0m\u001b[0;34m:\u001b[0m\u001b[0;34m\u001b[0m\u001b[0;34m\u001b[0m\u001b[0m\n\u001b[0;32m--> 170\u001b[0;31m         op = _MergeOperation(\n\u001b[0m\u001b[1;32m    171\u001b[0m             \u001b[0mleft_df\u001b[0m\u001b[0;34m,\u001b[0m\u001b[0;34m\u001b[0m\u001b[0;34m\u001b[0m\u001b[0m\n\u001b[1;32m    172\u001b[0m             \u001b[0mright_df\u001b[0m\u001b[0;34m,\u001b[0m\u001b[0;34m\u001b[0m\u001b[0;34m\u001b[0m\u001b[0m\n\u001b[1;32m    173\u001b[0m             \u001b[0mhow\u001b[0m\u001b[0;34m=\u001b[0m\u001b[0mhow\u001b[0m\u001b[0;34m,\u001b[0m\u001b[0;34m\u001b[0m\u001b[0;34m\u001b[0m\u001b[0m\n",
      "\u001b[0;32m~/Document/Matsubara/myenv/lib/python3.10/site-packages/pandas/core/reshape/merge.py\u001b[0m in \u001b[0;36m?\u001b[0;34m(self, left, right, how, on, left_on, right_on, left_index, right_index, sort, suffixes, indicator, validate)\u001b[0m\n\u001b[1;32m    790\u001b[0m             \u001b[0mself\u001b[0m\u001b[0;34m.\u001b[0m\u001b[0mright_join_keys\u001b[0m\u001b[0;34m,\u001b[0m\u001b[0;34m\u001b[0m\u001b[0;34m\u001b[0m\u001b[0m\n\u001b[1;32m    791\u001b[0m             \u001b[0mself\u001b[0m\u001b[0;34m.\u001b[0m\u001b[0mjoin_names\u001b[0m\u001b[0;34m,\u001b[0m\u001b[0;34m\u001b[0m\u001b[0;34m\u001b[0m\u001b[0m\n\u001b[1;32m    792\u001b[0m             \u001b[0mleft_drop\u001b[0m\u001b[0;34m,\u001b[0m\u001b[0;34m\u001b[0m\u001b[0;34m\u001b[0m\u001b[0m\n\u001b[1;32m    793\u001b[0m             \u001b[0mright_drop\u001b[0m\u001b[0;34m,\u001b[0m\u001b[0;34m\u001b[0m\u001b[0;34m\u001b[0m\u001b[0m\n\u001b[0;32m--> 794\u001b[0;31m         ) = self._get_merge_keys()\n\u001b[0m\u001b[1;32m    795\u001b[0m \u001b[0;34m\u001b[0m\u001b[0m\n\u001b[1;32m    796\u001b[0m         \u001b[0;32mif\u001b[0m \u001b[0mleft_drop\u001b[0m\u001b[0;34m:\u001b[0m\u001b[0;34m\u001b[0m\u001b[0;34m\u001b[0m\u001b[0m\n\u001b[1;32m    797\u001b[0m             \u001b[0mself\u001b[0m\u001b[0;34m.\u001b[0m\u001b[0mleft\u001b[0m \u001b[0;34m=\u001b[0m \u001b[0mself\u001b[0m\u001b[0;34m.\u001b[0m\u001b[0mleft\u001b[0m\u001b[0;34m.\u001b[0m\u001b[0m_drop_labels_or_levels\u001b[0m\u001b[0;34m(\u001b[0m\u001b[0mleft_drop\u001b[0m\u001b[0;34m)\u001b[0m\u001b[0;34m\u001b[0m\u001b[0;34m\u001b[0m\u001b[0m\n",
      "\u001b[0;32m~/Document/Matsubara/myenv/lib/python3.10/site-packages/pandas/core/reshape/merge.py\u001b[0m in \u001b[0;36m?\u001b[0;34m(self)\u001b[0m\n\u001b[1;32m   1306\u001b[0m                     \u001b[0;32mif\u001b[0m \u001b[0mlk\u001b[0m \u001b[0;32mis\u001b[0m \u001b[0;32mnot\u001b[0m \u001b[0;32mNone\u001b[0m\u001b[0;34m:\u001b[0m\u001b[0;34m\u001b[0m\u001b[0;34m\u001b[0m\u001b[0m\n\u001b[1;32m   1307\u001b[0m                         \u001b[0;31m# Then we're either Hashable or a wrong-length arraylike,\u001b[0m\u001b[0;34m\u001b[0m\u001b[0;34m\u001b[0m\u001b[0m\n\u001b[1;32m   1308\u001b[0m                         \u001b[0;31m#  the latter of which will raise\u001b[0m\u001b[0;34m\u001b[0m\u001b[0;34m\u001b[0m\u001b[0m\n\u001b[1;32m   1309\u001b[0m                         \u001b[0mlk\u001b[0m \u001b[0;34m=\u001b[0m \u001b[0mcast\u001b[0m\u001b[0;34m(\u001b[0m\u001b[0mHashable\u001b[0m\u001b[0;34m,\u001b[0m \u001b[0mlk\u001b[0m\u001b[0;34m)\u001b[0m\u001b[0;34m\u001b[0m\u001b[0;34m\u001b[0m\u001b[0m\n\u001b[0;32m-> 1310\u001b[0;31m                         \u001b[0mleft_keys\u001b[0m\u001b[0;34m.\u001b[0m\u001b[0mappend\u001b[0m\u001b[0;34m(\u001b[0m\u001b[0mleft\u001b[0m\u001b[0;34m.\u001b[0m\u001b[0m_get_label_or_level_values\u001b[0m\u001b[0;34m(\u001b[0m\u001b[0mlk\u001b[0m\u001b[0;34m)\u001b[0m\u001b[0;34m)\u001b[0m\u001b[0;34m\u001b[0m\u001b[0;34m\u001b[0m\u001b[0m\n\u001b[0m\u001b[1;32m   1311\u001b[0m                         \u001b[0mjoin_names\u001b[0m\u001b[0;34m.\u001b[0m\u001b[0mappend\u001b[0m\u001b[0;34m(\u001b[0m\u001b[0mlk\u001b[0m\u001b[0;34m)\u001b[0m\u001b[0;34m\u001b[0m\u001b[0;34m\u001b[0m\u001b[0m\n\u001b[1;32m   1312\u001b[0m                     \u001b[0;32melse\u001b[0m\u001b[0;34m:\u001b[0m\u001b[0;34m\u001b[0m\u001b[0;34m\u001b[0m\u001b[0m\n\u001b[1;32m   1313\u001b[0m                         \u001b[0;31m# work-around for merge_asof(left_index=True)\u001b[0m\u001b[0;34m\u001b[0m\u001b[0;34m\u001b[0m\u001b[0m\n",
      "\u001b[0;32m~/Document/Matsubara/myenv/lib/python3.10/site-packages/pandas/core/generic.py\u001b[0m in \u001b[0;36m?\u001b[0;34m(self, key, axis)\u001b[0m\n\u001b[1;32m   1907\u001b[0m             \u001b[0mvalues\u001b[0m \u001b[0;34m=\u001b[0m \u001b[0mself\u001b[0m\u001b[0;34m.\u001b[0m\u001b[0mxs\u001b[0m\u001b[0;34m(\u001b[0m\u001b[0mkey\u001b[0m\u001b[0;34m,\u001b[0m \u001b[0maxis\u001b[0m\u001b[0;34m=\u001b[0m\u001b[0mother_axes\u001b[0m\u001b[0;34m[\u001b[0m\u001b[0;36m0\u001b[0m\u001b[0;34m]\u001b[0m\u001b[0;34m)\u001b[0m\u001b[0;34m.\u001b[0m\u001b[0m_values\u001b[0m\u001b[0;34m\u001b[0m\u001b[0;34m\u001b[0m\u001b[0m\n\u001b[1;32m   1908\u001b[0m         \u001b[0;32melif\u001b[0m \u001b[0mself\u001b[0m\u001b[0;34m.\u001b[0m\u001b[0m_is_level_reference\u001b[0m\u001b[0;34m(\u001b[0m\u001b[0mkey\u001b[0m\u001b[0;34m,\u001b[0m \u001b[0maxis\u001b[0m\u001b[0;34m=\u001b[0m\u001b[0maxis\u001b[0m\u001b[0;34m)\u001b[0m\u001b[0;34m:\u001b[0m\u001b[0;34m\u001b[0m\u001b[0;34m\u001b[0m\u001b[0m\n\u001b[1;32m   1909\u001b[0m             \u001b[0mvalues\u001b[0m \u001b[0;34m=\u001b[0m \u001b[0mself\u001b[0m\u001b[0;34m.\u001b[0m\u001b[0maxes\u001b[0m\u001b[0;34m[\u001b[0m\u001b[0maxis\u001b[0m\u001b[0;34m]\u001b[0m\u001b[0;34m.\u001b[0m\u001b[0mget_level_values\u001b[0m\u001b[0;34m(\u001b[0m\u001b[0mkey\u001b[0m\u001b[0;34m)\u001b[0m\u001b[0;34m.\u001b[0m\u001b[0m_values\u001b[0m\u001b[0;34m\u001b[0m\u001b[0;34m\u001b[0m\u001b[0m\n\u001b[1;32m   1910\u001b[0m         \u001b[0;32melse\u001b[0m\u001b[0;34m:\u001b[0m\u001b[0;34m\u001b[0m\u001b[0;34m\u001b[0m\u001b[0m\n\u001b[0;32m-> 1911\u001b[0;31m             \u001b[0;32mraise\u001b[0m \u001b[0mKeyError\u001b[0m\u001b[0;34m(\u001b[0m\u001b[0mkey\u001b[0m\u001b[0;34m)\u001b[0m\u001b[0;34m\u001b[0m\u001b[0;34m\u001b[0m\u001b[0m\n\u001b[0m\u001b[1;32m   1912\u001b[0m \u001b[0;34m\u001b[0m\u001b[0m\n\u001b[1;32m   1913\u001b[0m         \u001b[0;31m# Check for duplicates\u001b[0m\u001b[0;34m\u001b[0m\u001b[0;34m\u001b[0m\u001b[0m\n\u001b[1;32m   1914\u001b[0m         \u001b[0;32mif\u001b[0m \u001b[0mvalues\u001b[0m\u001b[0;34m.\u001b[0m\u001b[0mndim\u001b[0m \u001b[0;34m>\u001b[0m \u001b[0;36m1\u001b[0m\u001b[0;34m:\u001b[0m\u001b[0;34m\u001b[0m\u001b[0;34m\u001b[0m\u001b[0m\n",
      "\u001b[0;31mKeyError\u001b[0m: 'ケース名'"
     ]
    }
   ],
   "source": [
    "import os\n",
    "import re\n",
    "import pandas as pd\n",
    "\n",
    "def match_and_order(\n",
    "    t_data_csv: str,\n",
    "    all_features_csv: str,\n",
    "    output_csv: str\n",
    "):\n",
    "    \"\"\"\n",
    "    t_data_csv:   計測日, 固相体積率, ケース名 などが記載されたファイル (例: t_data.csv)\n",
    "    all_features_csv: SourceCSV, MeanFeatureValue が記載されたファイル (例: all_features.csv)\n",
    "    output_csv:   出力先のファイルパス\n",
    "\n",
    "    処理の流れ:\n",
    "      1) t_data.csv を読み込み\n",
    "         - 列を [\"計測日\",\"固相体積率\",\"ケース名\"] などにリネーム (必要に応じて)\n",
    "      2) all_features.csv を読み込み\n",
    "         - SourceCSV から \"_tdx数字.csv\" を除去し, '_' を '-' に置き換えてケース名を抽出\n",
    "      3) t_data の順序を保つように merge\n",
    "         - マッチしなかった行(ケース名不一致)は削除(=放置)\n",
    "      4) CSV 出力\n",
    "    \"\"\"\n",
    "\n",
    "    # --- 1) t_data.csv を読み込み ---\n",
    "    # もし実際に「0,5,2」みたいな列インデックスになっているなら、列名を設定しておく\n",
    "    # header=None なら最初の行がデータとして扱われる。最初の行に列名が入っているなら header=0 にする。\n",
    "    # 下記は例として、最初の行を列名に使う（header=0）ケース:\n",
    "    t_df = pd.read_csv(t_data_csv, header=0)  \n",
    "    # あるいは状況に応じて ↓ のように書き換える:\n",
    "    # t_df = pd.read_csv(t_data_csv, header=None, names=[\"計測日\",\"固相体積率\",\"ケース名\"])\n",
    "\n",
    "    # 列名を念のため揃えておく（例: インデックスが \"0\",\"5\",\"2\" となっているなら書き換え）\n",
    "    # 実際の列順に合わせて修正してください:\n",
    "    # 例: t_df.columns = [\"計測日\", \"固相体積率[-]\", \"ケース名\"]\n",
    "    # ここでは既に正しく列名が割り当てられていると想定\n",
    "    \n",
    "    print(\"t_data columns:\", t_df.columns)\n",
    "\n",
    "    # t_data 側に「並び順を保持するための」列を追加\n",
    "    t_df[\"__order\"] = range(len(t_df))\n",
    "\n",
    "    # --- 2) all_features.csv を読み込み ---\n",
    "    f_df = pd.read_csv(all_features_csv)\n",
    "    # 例: f_df.columns => [\"SourceCSV\",\"MeanFeatureValue\"]\n",
    "\n",
    "    # 「SourceCSV」列からケース名を抽出\n",
    "    # ここで \"_tdx数字.csv\" を削除し、 '_' を '-' に置き換える\n",
    "    def extract_case_name(src):\n",
    "        # 例: \"s1_g0_l1_t1_tdx1.csv\" -> \"s1_g0_l1_t1\"\n",
    "        # \"_tdx任意の数字.csv\" を除去\n",
    "        # さらに '_' を '-' に置き換える: \"s1_g0_l1_t1\" -> \"s1-g0-l1-t1\"\n",
    "        name = re.sub(r'_tdx\\d+\\.csv$', '', src)  # 末尾の \"_tdx...csv\" を削除\n",
    "        name = name.replace('_','-')              # アンダーバーをハイフンに\n",
    "        return name\n",
    "    \n",
    "    f_df[\"ケース名\"] = f_df[\"SourceCSV\"].apply(extract_case_name)\n",
    "\n",
    "    print(\"all_features columns:\", f_df.columns)\n",
    "\n",
    "    # --- 3) merge ---\n",
    "    # t_data を左にして merge し、共通しないケース名は落としたい => 内部結合 \"inner\"\n",
    "    # ただし t_data の順序を保ちたい => 後でソートし直す\n",
    "    merged = pd.merge(\n",
    "        t_df, f_df,\n",
    "        on=\"ケース名\",\n",
    "        how=\"inner\"  # マッチしない行は削除\n",
    "    )\n",
    "\n",
    "    # t_data の元の並び順でソートし、補助列__orderを削除\n",
    "    merged = merged.sort_values(\"__order\").drop(columns=\"__order\")\n",
    "\n",
    "    # --- 4) CSV 出力 ---\n",
    "    merged.to_csv(output_csv, index=False, encoding=\"utf-8\")\n",
    "    print(f\"Done. Merged CSV saved to: {output_csv}\")\n",
    "\n",
    "\n",
    "if __name__ == \"__main__\":\n",
    "    t_data_csv     = \"//mnt/sdb/matsubara/target/t_data.csv\"\n",
    "    all_features   = \"//mnt/sdb/matsubara/input/all_features_standardized.csv\"\n",
    "    output_csv     = \"//mnt/sdb/matsubara/input/matched.csv\"\n",
    "\n",
    "    match_and_order(t_data_csv, all_features, output_csv)\n"
   ]
  }
 ],
 "metadata": {
  "kernelspec": {
   "display_name": "Python (myenv)",
   "language": "python",
   "name": "myenv"
  },
  "language_info": {
   "codemirror_mode": {
    "name": "ipython",
    "version": 3
   },
   "file_extension": ".py",
   "mimetype": "text/x-python",
   "name": "python",
   "nbconvert_exporter": "python",
   "pygments_lexer": "ipython3",
   "version": "3.10.12"
  }
 },
 "nbformat": 4,
 "nbformat_minor": 2
}
